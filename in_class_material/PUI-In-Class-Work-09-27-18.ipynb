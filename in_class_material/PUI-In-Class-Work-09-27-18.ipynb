{
 "cells": [
  {
   "cell_type": "code",
   "execution_count": 1,
   "metadata": {},
   "outputs": [
    {
     "name": "stdout",
     "output_type": "stream",
     "text": [
      "Populating the interactive namespace from numpy and matplotlib\n"
     ]
    }
   ],
   "source": [
    "import numpy as np\n",
    "import pylab as pl\n",
    "import pylab as pl\n",
    "import numpy as np\n",
    "from scipy import stats\n",
    "import json\n",
    "import os\n",
    "%pylab inline"
   ]
  },
  {
   "cell_type": "code",
   "execution_count": 2,
   "metadata": {},
   "outputs": [],
   "source": [
    "np.random.normal?"
   ]
  },
  {
   "cell_type": "code",
   "execution_count": 9,
   "metadata": {},
   "outputs": [],
   "source": [
    "np.random.seed(seed=999)"
   ]
  },
  {
   "cell_type": "code",
   "execution_count": 10,
   "metadata": {},
   "outputs": [
    {
     "data": {
      "text/plain": [
       "array([ 0.12715784,  1.40189088,  0.31481499, -0.85844916, -0.26613444,\n",
       "       -0.64890071,  1.56626757, -2.09137019,  1.45632806,  0.94529342])"
      ]
     },
     "execution_count": 10,
     "metadata": {},
     "output_type": "execute_result"
    }
   ],
   "source": [
    "np.random.normal(size=10)"
   ]
  },
  {
   "cell_type": "code",
   "execution_count": 11,
   "metadata": {},
   "outputs": [
    {
     "data": {
      "text/plain": [
       "(array([   6.,   16.,   46.,  133.,  228.,  254.,  189.,   87.,   34.,    7.]),\n",
       " array([-3.50760164, -2.84558484, -2.18356804, -1.52155124, -0.85953444,\n",
       "        -0.19751764,  0.46449916,  1.12651596,  1.78853276,  2.45054955,\n",
       "         3.11256635]),\n",
       " <a list of 10 Patch objects>)"
      ]
     },
     "execution_count": 11,
     "metadata": {},
     "output_type": "execute_result"
    },
    {
     "data": {
      "image/png": "[encoded data removed]",
      "text/plain": [
       "<matplotlib.figure.Figure at 0x7f8f7e5359e8>"
      ]
     },
     "metadata": {},
     "output_type": "display_data"
    }
   ],
   "source": [
    "pl.hist(np.random.normal(size=1000))"
   ]
  },
  {
   "cell_type": "code",
   "execution_count": 12,
   "metadata": {},
   "outputs": [],
   "source": [
    "\n",
    "# this is a function to to make the plots:\n",
    "# all distributions are plotted the same way\n",
    "# it also prints details about the distribution\n",
    "\n",
    "\n",
    "def plot_and_print(dist):\n",
    "    '''Plots and prents details about agiven distribution\n",
    "    Arguments:\n",
    "        dist: distribution of datapoints, np.array\n",
    "    '''\n",
    "    fig = pl.figure()\n",
    "    pl.hist(dist, bins=30)\n",
    "    n, min_max, mean, var, skew, kurt = stats.describe(dist)\n",
    "    pl.xlabel(\" x \")\n",
    "    pl.ylabel(\" number of draws \")\n",
    "    print(\"Number of elements: {0:d}\".format(n))\n",
    "    print(\"Minimum: {0:8.6f} Maximum: {1:8.6f}\".format(min_max[0],\n",
    "                                                       min_max[1]))\n",
    "    print(\"Mean: {0:8.6f}\".format(mean))\n",
    "    print(\"Median: {0:8.6f}\".format(np.median(dist)))\n",
    "    print(\"Variance: {0:8.6f}\".format(var))\n",
    "    print(\"Skew : {0:8.6f}\".format(skew))\n",
    "    print(\"Kurtosis: {0:8.6f}\".format(kurt))"
   ]
  },
  {
   "cell_type": "code",
   "execution_count": 13,
   "metadata": {},
   "outputs": [
    {
     "name": "stdout",
     "output_type": "stream",
     "text": [
      "Number of elements: 1000\n",
      "Minimum: -3.176518 Maximum: 3.228543\n",
      "Mean: -0.008743\n",
      "Median: -0.054780\n",
      "Variance: 1.091029\n",
      "Skew : 0.038011\n",
      "Kurtosis: 0.028457\n"
     ]
    },
    {
     "data": {
      "image/png": "[encoded data removed]",
      "text/plain": [
       "<matplotlib.figure.Figure at 0x7f8f7e4b4940>"
      ]
     },
     "metadata": {},
     "output_type": "display_data"
    }
   ],
   "source": [
    "plot_and_print(np.random.normal(size=1000))"
   ]
  },
  {
   "cell_type": "code",
   "execution_count": 14,
   "metadata": {},
   "outputs": [
    {
     "name": "stdout",
     "output_type": "stream",
     "text": [
      "Number of elements: 300\n",
      "Minimum: 77.000000 Maximum: 129.000000\n",
      "Mean: 99.836667\n",
      "Median: 100.000000\n",
      "Variance: 88.324404\n",
      "Skew : 0.133613\n",
      "Kurtosis: 0.274517\n"
     ]
    },
    {
     "data": {
      "image/png": "[encoded data removed]",
      "text/plain": [
       "<matplotlib.figure.Figure at 0x7f8f7e4a18d0>"
      ]
     },
     "metadata": {},
     "output_type": "display_data"
    }
   ],
   "source": [
    "plot_and_print(np.random.poisson(lam=100, size=300))"
   ]
  },
  {
   "cell_type": "code",
   "execution_count": 18,
   "metadata": {},
   "outputs": [
    {
     "name": "stdout",
     "output_type": "stream",
     "text": [
      "Number of elements: 300\n",
      "Minimum: 69.000000 Maximum: 117.000000\n",
      "Mean: 100.093333\n",
      "Median: 100.000000\n",
      "Variance: 54.700290\n",
      "Skew : -0.200309\n",
      "Kurtosis: 0.375155\n"
     ]
    },
    {
     "data": {
      "image/png": "[encoded data removed]",
      "text/plain": [
       "<matplotlib.figure.Figure at 0x7f8f7e3a33c8>"
      ]
     },
     "metadata": {},
     "output_type": "display_data"
    }
   ],
   "source": [
    "plot_and_print(np.random.binomial(n=200, p=0.5, size=300))"
   ]
  },
  {
   "cell_type": "code",
   "execution_count": 21,
   "metadata": {},
   "outputs": [
    {
     "name": "stdout",
     "output_type": "stream",
     "text": [
      "Number of elements: 100\n",
      "Minimum: 71.138044 Maximum: 143.257082\n",
      "Mean: 99.990658\n",
      "Median: 97.601009\n",
      "Variance: 203.405609\n",
      "Skew : 0.499309\n",
      "Kurtosis: 0.032536\n"
     ]
    },
    {
     "data": {
      "image/png": "[encoded data removed]",
      "text/plain": [
       "<matplotlib.figure.Figure at 0x7f8f7e33c128>"
      ]
     },
     "metadata": {},
     "output_type": "display_data"
    }
   ],
   "source": [
    "plot_and_print(np.random.chisquare(100, 100))"
   ]
  },
  {
   "cell_type": "code",
   "execution_count": null,
   "metadata": {},
   "outputs": [],
   "source": []
  },
  {
   "cell_type": "code",
   "execution_count": null,
   "metadata": {},
   "outputs": [],
   "source": []
  },
  {
   "cell_type": "code",
   "execution_count": null,
   "metadata": {},
   "outputs": [],
   "source": []
  },
  {
   "cell_type": "code",
   "execution_count": null,
   "metadata": {},
   "outputs": [],
   "source": []
  },
  {
   "cell_type": "code",
   "execution_count": null,
   "metadata": {},
   "outputs": [],
   "source": []
  },
  {
   "cell_type": "code",
   "execution_count": null,
   "metadata": {},
   "outputs": [],
   "source": []
  },
  {
   "cell_type": "code",
   "execution_count": null,
   "metadata": {},
   "outputs": [],
   "source": []
  },
  {
   "cell_type": "code",
   "execution_count": null,
   "metadata": {},
   "outputs": [],
   "source": []
  },
  {
   "cell_type": "code",
   "execution_count": null,
   "metadata": {},
   "outputs": [],
   "source": []
  }
 ],
 "metadata": {
  "kernelspec": {
   "display_name": "PUI2016_Python3",
   "language": "python",
   "name": "pui2016_python3"
  },
  "language_info": {
   "codemirror_mode": {
    "name": "ipython",
    "version": 3
   },
   "file_extension": ".py",
   "mimetype": "text/x-python",
   "name": "python",
   "nbconvert_exporter": "python",
   "pygments_lexer": "ipython3",
   "version": "3.5.4"
  }
 },
 "nbformat": 4,
 "nbformat_minor": 2
}
