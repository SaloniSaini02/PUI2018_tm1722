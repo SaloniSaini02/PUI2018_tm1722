{
 "cells": [
  {
   "cell_type": "code",
   "execution_count": 1,
   "metadata": {},
   "outputs": [
    {
     "name": "stdout",
     "output_type": "stream",
     "text": [
      "Populating the interactive namespace from numpy and matplotlib\n"
     ]
    }
   ],
   "source": [
    "# Importing packages \n",
    "import os\n",
    "import pandas as pd \n",
    "from __future__ import print_function \n",
    "\n",
    "%pylab inline"
   ]
  },
  {
   "cell_type": "markdown",
   "metadata": {},
   "source": [
    "### Finding data on NYC Open Data Portal \n",
    "\n",
    "I'll be working with a dataset called _Water Consumption In \n",
    "The New York City_ which contains historical data of water consumption in the city. \n",
    "\n",
    "The dataset can be accessed here: \n",
    "https://data.cityofnewyork.us/Environment/Water-Consumption-In-The-New-York-City/ia2d-e54m\n",
    "\n"
   ]
  },
  {
   "cell_type": "markdown",
   "metadata": {},
   "source": [
    "### Downloading data from the portal"
   ]
  },
  {
   "cell_type": "code",
   "execution_count": 2,
   "metadata": {},
   "outputs": [
    {
     "name": "stdout",
     "output_type": "stream",
     "text": [
      "  % Total    % Received % Xferd  Average Speed   Time    Time     Time  Current\n",
      "                                 Dload  Upload   Total   Spent    Left  Speed\n",
      "100  1006    0  1006    0     0   4188      0 --:--:-- --:--:-- --:--:--  4191\n"
     ]
    }
   ],
   "source": [
    "!curl https://data.cityofnewyork.us/api/views/ia2d-e54m/rows.csv?accessType=DOWNLOAD > water_consumption.csv\n",
    "\n"
   ]
  },
  {
   "cell_type": "code",
   "execution_count": 3,
   "metadata": {},
   "outputs": [
    {
     "name": "stdout",
     "output_type": "stream",
     "text": [
      "PUIDATA /nfshome/tm1722/PUIdata\n"
     ]
    }
   ],
   "source": [
    "# Check if we have an environmental variable \"PUIDATA\" set up \n",
    "print(\"PUIDATA\", os.getenv(\"PUIDATA\"))"
   ]
  },
  {
   "cell_type": "code",
   "execution_count": 4,
   "metadata": {},
   "outputs": [],
   "source": [
    "# Move the data\n",
    "!mv water_consumption.csv $PUIDATA"
   ]
  },
  {
   "cell_type": "code",
   "execution_count": 5,
   "metadata": {},
   "outputs": [
    {
     "name": "stdout",
     "output_type": "stream",
     "text": [
      "water_consumption.csv\r\n"
     ]
    }
   ],
   "source": [
    "# Check if the data transferred \n",
    "!ls $PUIDATA"
   ]
  },
  {
   "cell_type": "markdown",
   "metadata": {},
   "source": [
    "### Data mangling using _pandas_"
   ]
  },
  {
   "cell_type": "code",
   "execution_count": 6,
   "metadata": {},
   "outputs": [],
   "source": [
    "# Read the data with pandas\n",
    "water_consumption = pd.read_csv(\"%s/water_consumption.csv\"%os.getenv(\"PUIDATA\"))"
   ]
  },
  {
   "cell_type": "code",
   "execution_count": 7,
   "metadata": {},
   "outputs": [
    {
     "data": {
      "text/html": [
       "<div>\n",
       "<table border=\"1\" class=\"dataframe\">\n",
       "  <thead>\n",
       "    <tr style=\"text-align: right;\">\n",
       "      <th></th>\n",
       "      <th>Year</th>\n",
       "      <th>New York City Population</th>\n",
       "      <th>NYC Consumption(Million gallons per day)</th>\n",
       "      <th>Per Capita(Gallons per person per day)</th>\n",
       "    </tr>\n",
       "  </thead>\n",
       "  <tbody>\n",
       "    <tr>\n",
       "      <th>0</th>\n",
       "      <td>1979</td>\n",
       "      <td>7102100.0</td>\n",
       "      <td>1512.0</td>\n",
       "      <td>213</td>\n",
       "    </tr>\n",
       "    <tr>\n",
       "      <th>1</th>\n",
       "      <td>1980</td>\n",
       "      <td>7071639.0</td>\n",
       "      <td>1506.0</td>\n",
       "      <td>213</td>\n",
       "    </tr>\n",
       "    <tr>\n",
       "      <th>2</th>\n",
       "      <td>1981</td>\n",
       "      <td>7089241.0</td>\n",
       "      <td>1309.0</td>\n",
       "      <td>185</td>\n",
       "    </tr>\n",
       "    <tr>\n",
       "      <th>3</th>\n",
       "      <td>1982</td>\n",
       "      <td>7109105.0</td>\n",
       "      <td>1382.0</td>\n",
       "      <td>194</td>\n",
       "    </tr>\n",
       "    <tr>\n",
       "      <th>4</th>\n",
       "      <td>1983</td>\n",
       "      <td>7181224.0</td>\n",
       "      <td>1424.0</td>\n",
       "      <td>198</td>\n",
       "    </tr>\n",
       "    <tr>\n",
       "      <th>5</th>\n",
       "      <td>1984</td>\n",
       "      <td>7234514.0</td>\n",
       "      <td>1465.0</td>\n",
       "      <td>203</td>\n",
       "    </tr>\n",
       "    <tr>\n",
       "      <th>6</th>\n",
       "      <td>1985</td>\n",
       "      <td>7274054.0</td>\n",
       "      <td>1326.0</td>\n",
       "      <td>182</td>\n",
       "    </tr>\n",
       "  </tbody>\n",
       "</table>\n",
       "</div>"
      ],
      "text/plain": [
       "   Year  New York City Population  NYC Consumption(Million gallons per day)  \\\n",
       "0  1979                 7102100.0                                    1512.0   \n",
       "1  1980                 7071639.0                                    1506.0   \n",
       "2  1981                 7089241.0                                    1309.0   \n",
       "3  1982                 7109105.0                                    1382.0   \n",
       "4  1983                 7181224.0                                    1424.0   \n",
       "5  1984                 7234514.0                                    1465.0   \n",
       "6  1985                 7274054.0                                    1326.0   \n",
       "\n",
       "   Per Capita(Gallons per person per day)  \n",
       "0                                     213  \n",
       "1                                     213  \n",
       "2                                     185  \n",
       "3                                     194  \n",
       "4                                     198  \n",
       "5                                     203  \n",
       "6                                     182  "
      ]
     },
     "execution_count": 7,
     "metadata": {},
     "output_type": "execute_result"
    }
   ],
   "source": [
    "# Print the first 7 rows of the dataset\n",
    "water_consumption.head(7)"
   ]
  },
  {
   "cell_type": "code",
   "execution_count": 8,
   "metadata": {},
   "outputs": [
    {
     "data": {
      "text/plain": [
       "Index(['Year', 'New York City Population',\n",
       "       'NYC Consumption(Million gallons per day)',\n",
       "       'Per Capita(Gallons per person per day)'],\n",
       "      dtype='object')"
      ]
     },
     "execution_count": 8,
     "metadata": {},
     "output_type": "execute_result"
    }
   ],
   "source": [
    "# Look at all variables to decide which ones to keep\n",
    "water_consumption.columns"
   ]
  },
  {
   "cell_type": "code",
   "execution_count": 9,
   "metadata": {},
   "outputs": [
    {
     "data": {
      "text/plain": [
       "156"
      ]
     },
     "execution_count": 9,
     "metadata": {},
     "output_type": "execute_result"
    }
   ],
   "source": [
    "# Count number of rows/data points\n",
    "water_consumption.size"
   ]
  },
  {
   "cell_type": "code",
   "execution_count": 10,
   "metadata": {},
   "outputs": [],
   "source": [
    "water_consumption_2 = water_consumption[['Per Capita(Gallons per person per day)', 'NYC Consumption(Million gallons per day)']]"
   ]
  },
  {
   "cell_type": "code",
   "execution_count": 11,
   "metadata": {},
   "outputs": [
    {
     "data": {
      "text/html": [
       "<div>\n",
       "<table border=\"1\" class=\"dataframe\">\n",
       "  <thead>\n",
       "    <tr style=\"text-align: right;\">\n",
       "      <th></th>\n",
       "      <th>Per Capita(Gallons per person per day)</th>\n",
       "      <th>NYC Consumption(Million gallons per day)</th>\n",
       "    </tr>\n",
       "  </thead>\n",
       "  <tbody>\n",
       "    <tr>\n",
       "      <th>0</th>\n",
       "      <td>213</td>\n",
       "      <td>1512.0</td>\n",
       "    </tr>\n",
       "    <tr>\n",
       "      <th>1</th>\n",
       "      <td>213</td>\n",
       "      <td>1506.0</td>\n",
       "    </tr>\n",
       "    <tr>\n",
       "      <th>2</th>\n",
       "      <td>185</td>\n",
       "      <td>1309.0</td>\n",
       "    </tr>\n",
       "    <tr>\n",
       "      <th>3</th>\n",
       "      <td>194</td>\n",
       "      <td>1382.0</td>\n",
       "    </tr>\n",
       "    <tr>\n",
       "      <th>4</th>\n",
       "      <td>198</td>\n",
       "      <td>1424.0</td>\n",
       "    </tr>\n",
       "  </tbody>\n",
       "</table>\n",
       "</div>"
      ],
      "text/plain": [
       "   Per Capita(Gallons per person per day)  \\\n",
       "0                                     213   \n",
       "1                                     213   \n",
       "2                                     185   \n",
       "3                                     194   \n",
       "4                                     198   \n",
       "\n",
       "   NYC Consumption(Million gallons per day)  \n",
       "0                                    1512.0  \n",
       "1                                    1506.0  \n",
       "2                                    1309.0  \n",
       "3                                    1382.0  \n",
       "4                                    1424.0  "
      ]
     },
     "execution_count": 11,
     "metadata": {},
     "output_type": "execute_result"
    }
   ],
   "source": [
    "water_consumption_2.head()"
   ]
  },
  {
   "cell_type": "markdown",
   "metadata": {},
   "source": [
    "### Plotting data"
   ]
  },
  {
   "cell_type": "code",
   "execution_count": 12,
   "metadata": {},
   "outputs": [
    {
     "data": {
      "text/plain": [
       "Text(0.5,1,'NYC Water Consumption')"
      ]
     },
     "execution_count": 12,
     "metadata": {},
     "output_type": "execute_result"
    },
    {
     "data": {
      "image/png": "[encoded data removed]",
      "text/plain": [
       "<matplotlib.figure.Figure at 0x7fd85c86b438>"
      ]
     },
     "metadata": {},
     "output_type": "display_data"
    }
   ],
   "source": [
    "# Plot variables from the new dataframe\n",
    "water_consumption_2.plot(x='Per Capita(Gallons per person per day)', y='NYC Consumption(Million gallons per day)', kind='scatter')\n",
    "pylab.title('NYC Water Consumption')"
   ]
  },
  {
   "cell_type": "markdown",
   "metadata": {},
   "source": [
    "Figure 1: numbers of total NYC water consumptions(in million gallons per day) against per capita consumption (gallons per person per day). Predictably, there is a linear relationship between the variables."
   ]
  },
  {
   "cell_type": "markdown",
   "metadata": {},
   "source": [
    "# Solution 2: Use API and download a json file\n",
    "AKA Doing it the extra credit way!!!!!"
   ]
  },
  {
   "cell_type": "code",
   "execution_count": 13,
   "metadata": {},
   "outputs": [],
   "source": [
    "url_2 = \"https://data.cityofnewyork.us/resource/waf7-5gvc.json\""
   ]
  },
  {
   "cell_type": "code",
   "execution_count": 14,
   "metadata": {},
   "outputs": [
    {
     "data": {
      "text/html": [
       "<div>\n",
       "<table border=\"1\" class=\"dataframe\">\n",
       "  <thead>\n",
       "    <tr style=\"text-align: right;\">\n",
       "      <th></th>\n",
       "      <th>new_york_city_population</th>\n",
       "      <th>nyc_consumption_million_gallons_per_day</th>\n",
       "      <th>per_capita_gallons_per_person_per_day</th>\n",
       "      <th>year</th>\n",
       "    </tr>\n",
       "  </thead>\n",
       "  <tbody>\n",
       "    <tr>\n",
       "      <th>0</th>\n",
       "      <td>7102100.0</td>\n",
       "      <td>1512.0</td>\n",
       "      <td>213</td>\n",
       "      <td>1979</td>\n",
       "    </tr>\n",
       "    <tr>\n",
       "      <th>1</th>\n",
       "      <td>7071639.0</td>\n",
       "      <td>1506.0</td>\n",
       "      <td>213</td>\n",
       "      <td>1980</td>\n",
       "    </tr>\n",
       "    <tr>\n",
       "      <th>2</th>\n",
       "      <td>7089241.0</td>\n",
       "      <td>1309.0</td>\n",
       "      <td>185</td>\n",
       "      <td>1981</td>\n",
       "    </tr>\n",
       "    <tr>\n",
       "      <th>3</th>\n",
       "      <td>7109105.0</td>\n",
       "      <td>1382.0</td>\n",
       "      <td>194</td>\n",
       "      <td>1982</td>\n",
       "    </tr>\n",
       "    <tr>\n",
       "      <th>4</th>\n",
       "      <td>7181224.0</td>\n",
       "      <td>1424.0</td>\n",
       "      <td>198</td>\n",
       "      <td>1983</td>\n",
       "    </tr>\n",
       "    <tr>\n",
       "      <th>5</th>\n",
       "      <td>7234514.0</td>\n",
       "      <td>1465.0</td>\n",
       "      <td>203</td>\n",
       "      <td>1984</td>\n",
       "    </tr>\n",
       "    <tr>\n",
       "      <th>6</th>\n",
       "      <td>7274054.0</td>\n",
       "      <td>1326.0</td>\n",
       "      <td>182</td>\n",
       "      <td>1985</td>\n",
       "    </tr>\n",
       "  </tbody>\n",
       "</table>\n",
       "</div>"
      ],
      "text/plain": [
       "   new_york_city_population  nyc_consumption_million_gallons_per_day  \\\n",
       "0                 7102100.0                                   1512.0   \n",
       "1                 7071639.0                                   1506.0   \n",
       "2                 7089241.0                                   1309.0   \n",
       "3                 7109105.0                                   1382.0   \n",
       "4                 7181224.0                                   1424.0   \n",
       "5                 7234514.0                                   1465.0   \n",
       "6                 7274054.0                                   1326.0   \n",
       "\n",
       "   per_capita_gallons_per_person_per_day  year  \n",
       "0                                    213  1979  \n",
       "1                                    213  1980  \n",
       "2                                    185  1981  \n",
       "3                                    194  1982  \n",
       "4                                    198  1983  \n",
       "5                                    203  1984  \n",
       "6                                    182  1985  "
      ]
     },
     "execution_count": 14,
     "metadata": {},
     "output_type": "execute_result"
    }
   ],
   "source": [
    "# Use pandas' read_json function to read the file\n",
    "df = pd.read_json(url_2)\n",
    "df.head(7)"
   ]
  },
  {
   "cell_type": "code",
   "execution_count": 15,
   "metadata": {},
   "outputs": [],
   "source": [
    "# Create a new dataframe with columns we want to keep\n",
    "water_consumption_3 = df[['per_capita_gallons_per_person_per_day', 'nyc_consumption_million_gallons_per_day', 'year']]"
   ]
  },
  {
   "cell_type": "code",
   "execution_count": 16,
   "metadata": {},
   "outputs": [],
   "source": [
    "# Rename variables to be consistent with the CSV solution\n",
    "water_consumption_3 = water_consumption_3.rename(columns = {'per_capita_gallons_per_person_per_day':'Per Capita (Gallons per person per day)',\n",
    "                                    'nyc_consumption_million_gallons_per_day':'NYC Consumption (Million gallons per day)',\n",
    "                                                                       'year':'Year'})"
   ]
  },
  {
   "cell_type": "code",
   "execution_count": 17,
   "metadata": {
    "scrolled": true
   },
   "outputs": [
    {
     "data": {
      "text/html": [
       "<div>\n",
       "<table border=\"1\" class=\"dataframe\">\n",
       "  <thead>\n",
       "    <tr style=\"text-align: right;\">\n",
       "      <th></th>\n",
       "      <th>Per Capita (Gallons per person per day)</th>\n",
       "      <th>NYC Consumption (Million gallons per day)</th>\n",
       "      <th>Year</th>\n",
       "    </tr>\n",
       "  </thead>\n",
       "  <tbody>\n",
       "    <tr>\n",
       "      <th>0</th>\n",
       "      <td>213</td>\n",
       "      <td>1512.0</td>\n",
       "      <td>1979</td>\n",
       "    </tr>\n",
       "    <tr>\n",
       "      <th>1</th>\n",
       "      <td>213</td>\n",
       "      <td>1506.0</td>\n",
       "      <td>1980</td>\n",
       "    </tr>\n",
       "    <tr>\n",
       "      <th>2</th>\n",
       "      <td>185</td>\n",
       "      <td>1309.0</td>\n",
       "      <td>1981</td>\n",
       "    </tr>\n",
       "    <tr>\n",
       "      <th>3</th>\n",
       "      <td>194</td>\n",
       "      <td>1382.0</td>\n",
       "      <td>1982</td>\n",
       "    </tr>\n",
       "    <tr>\n",
       "      <th>4</th>\n",
       "      <td>198</td>\n",
       "      <td>1424.0</td>\n",
       "      <td>1983</td>\n",
       "    </tr>\n",
       "  </tbody>\n",
       "</table>\n",
       "</div>"
      ],
      "text/plain": [
       "   Per Capita (Gallons per person per day)  \\\n",
       "0                                      213   \n",
       "1                                      213   \n",
       "2                                      185   \n",
       "3                                      194   \n",
       "4                                      198   \n",
       "\n",
       "   NYC Consumption (Million gallons per day)  Year  \n",
       "0                                     1512.0  1979  \n",
       "1                                     1506.0  1980  \n",
       "2                                     1309.0  1981  \n",
       "3                                     1382.0  1982  \n",
       "4                                     1424.0  1983  "
      ]
     },
     "execution_count": 17,
     "metadata": {},
     "output_type": "execute_result"
    }
   ],
   "source": [
    "water_consumption_3 = water_consumption_3.sort_values(by=['Year'])\n",
    "water_consumption_3.head()"
   ]
  },
  {
   "cell_type": "code",
   "execution_count": 18,
   "metadata": {},
   "outputs": [
    {
     "data": {
      "image/png": "[encoded data removed]",
      "text/plain": [
       "<matplotlib.figure.Figure at 0x7fd85c800e48>"
      ]
     },
     "metadata": {},
     "output_type": "display_data"
    }
   ],
   "source": [
    "# Plot NYC Daily Water Consumption by year\n",
    "ax = water_consumption_3.plot(y='NYC Consumption (Million gallons per day)', x='Year');\n",
    "ax.set_ylabel(\"NYC Consumption\");"
   ]
  },
  {
   "cell_type": "markdown",
   "metadata": {},
   "source": [
    "Figure 2: NYC Daily Water Consumption (in Million gallons per day) as a function of time between 1980 and 2016. We can see that New \n",
    "Yorkers are using much less water now than before. It is unclear if\n",
    "people are better with water consumption or if technology got more \n",
    "efficient"
   ]
  },
  {
   "cell_type": "code",
   "execution_count": 19,
   "metadata": {},
   "outputs": [
    {
     "data": {
      "image/png": "[encoded data removed]",
      "text/plain": [
       "<matplotlib.figure.Figure at 0x7fd857c13b00>"
      ]
     },
     "metadata": {},
     "output_type": "display_data"
    }
   ],
   "source": [
    "# Plot per capita water consumption by year\n",
    "ax2 = water_consumption_3.plot(y='Per Capita (Gallons per person per day)', x='Year');\n",
    "ax2.set_ylabel(\"NYC Consumption\");"
   ]
  },
  {
   "cell_type": "markdown",
   "metadata": {},
   "source": [
    "Figure 3: NYC per capita Daily Water Consumption (in gallons per person per day) as a function of time between 1980 and 2016. We can see a similar as in Figure 2. "
   ]
  }
 ],
 "metadata": {
  "kernelspec": {
   "display_name": "PUI2016_Python3",
   "language": "python",
   "name": "pui2016_python3"
  },
  "language_info": {
   "codemirror_mode": {
    "name": "ipython",
    "version": 3
   },
   "file_extension": ".py",
   "mimetype": "text/x-python",
   "name": "python",
   "nbconvert_exporter": "python",
   "pygments_lexer": "ipython3",
   "version": "3.5.4"
  }
 },
 "nbformat": 4,
 "nbformat_minor": 2
}
