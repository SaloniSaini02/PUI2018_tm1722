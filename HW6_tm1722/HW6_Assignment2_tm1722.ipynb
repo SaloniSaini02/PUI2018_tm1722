{
 "cells": [
  {
   "cell_type": "markdown",
   "metadata": {},
   "source": [
    "# SQL CARTO QUERY FUNCTION\n",
    "# written for PUI2016_Python2"
   ]
  },
  {
   "cell_type": "code",
   "execution_count": 1,
   "metadata": {},
   "outputs": [],
   "source": [
    "# extra credit: make the function python 2 and 3 compatible so that it works on the  PUI2016_Python3 kernel\n",
    "try:\n",
    "    from StringIO import BytesIO as io\n",
    "except ImportError:\n",
    "    from io import BytesIO as io\n",
    "\n",
    "try:\n",
    "    from urllib import urlencode as urlencode\n",
    "except ImportError:\n",
    "    from urllib.parse import urlencode as urlencode\n",
    "    \n",
    "try:\n",
    "    from urllib import urlopen as urlopen\n",
    "except ImportError:\n",
    "    from urllib.request import urlopen as urlopen\n",
    "    \n",
    "try:\n",
    "    from urllib2 import HTTPError as HTTPError\n",
    "except ImportError:\n",
    "    from urllib.error import HTTPError as HTTPError\n",
    "\n",
    "import ast\n",
    "import pandas as pd"
   ]
  },
  {
   "cell_type": "code",
   "execution_count": 2,
   "metadata": {},
   "outputs": [],
   "source": [
    "API_URL = 'https://fb55.carto.com:443/api/v2/sql?q='\n",
    "\n",
    "def queryCartoDB(query, formatting = 'CSV', source = API_URL):\n",
    "    '''queries carto datasets from a given carto account\n",
    "    Arguments: \n",
    "    query - string: a valid sql query string\n",
    "    format - outlut format  OPTIONAL (default CSV)\n",
    "    source - a valid sql api endpoint OPTIONAL (default carto fb55 account)\n",
    "    Returns:\n",
    "    the return of the sql query AS A STRING\n",
    "    NOTES:\n",
    "    designed for the carto API, tested only with CSV return format'''\n",
    "    \n",
    "    \n",
    "    data = urlencode({'format': formatting, 'q': query}).encode(\"utf-8\")\n",
    "    try:\n",
    "        response = urlopen(source, data)\n",
    "        return response.read()\n",
    "    except HTTPError as e:\n",
    "        raise (ValueError('\\n'.join(ast.literal_eval(e.readline())['error'])))\n",
    "        \n",
    "def get_data(query):\n",
    "    try:\n",
    "        return pd.read_csv(io(queryCartoDB(query)), sep = ',')\n",
    "    except ValueError as v:\n",
    "        print (str(v))"
   ]
  },
  {
   "cell_type": "code",
   "execution_count": 5,
   "metadata": {
    "collapsed": true
   },
   "outputs": [],
   "source": [
    "query = '''SELECT * FROM fb55.citibike; '''\n",
    "table = get_data(query)\n",
    "table.head(5)\n",
    "\n"
   ]
  }
 ],
 "metadata": {
  "anaconda-cloud": {},
  "kernelspec": {
   "display_name": "PUI2016_Python2",
   "language": "python",
   "name": "pui2016_python2"
  },
  "language_info": {
   "codemirror_mode": {
    "name": "ipython",
    "version": 2
   },
   "file_extension": ".py",
   "mimetype": "text/x-python",
   "name": "python",
   "nbconvert_exporter": "python",
   "pygments_lexer": "ipython2",
   "version": "2.7.12"
  }
 },
 "nbformat": 4,
 "nbformat_minor": 1
}
