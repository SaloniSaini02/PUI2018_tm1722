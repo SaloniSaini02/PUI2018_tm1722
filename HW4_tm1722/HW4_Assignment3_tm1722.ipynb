{
 "cells": [
  {
   "cell_type": "code",
   "execution_count": 1,
   "metadata": {},
   "outputs": [
    {
     "name": "stdout",
     "output_type": "stream",
     "text": [
      "Populating the interactive namespace from numpy and matplotlib\n"
     ]
    }
   ],
   "source": [
    "# Import libraries used in the notebook\n",
    "\n",
    "# import pandas as pd  # -- import if using pandas to get data]\n",
    "import numpy as np\n",
    "import statistics\n",
    "import math\n",
    "from matplotlib import pyplot as plt\n",
    "try:\n",
    "    import urllib2 as urllib\n",
    "except ImportError:\n",
    "    import urllib.request as urllib\n",
    "%pylab inline"
   ]
  },
  {
   "cell_type": "markdown",
   "metadata": {},
   "source": [
    "# Formulating the Hypotheses"
   ]
  },
  {
   "cell_type": "markdown",
   "metadata": {},
   "source": [
    "**$H_{0}$:  $T_{(new)}$ $\\leqslant$ $T_{(old)}$**\n",
    "\n",
    "**$H_{1}$: $T_{(new)}$ > $T_{(old)}$**\n",
    "   \n",
    "$H_{0}$ in words: The new commute time is on average the same or longer than the old commute time at a significance of $\\alpha$=0.05"
   ]
  },
  {
   "cell_type": "markdown",
   "metadata": {},
   "source": [
    " "
   ]
  },
  {
   "cell_type": "markdown",
   "metadata": {},
   "source": [
    " "
   ]
  },
  {
   "cell_type": "markdown",
   "metadata": {},
   "source": [
    "# Hypothesis testing"
   ]
  },
  {
   "cell_type": "markdown",
   "metadata": {},
   "source": [
    "###  Accessing data"
   ]
  },
  {
   "cell_type": "code",
   "execution_count": 2,
   "metadata": {
    "scrolled": true
   },
   "outputs": [
    {
     "data": {
      "text/plain": [
       "[31.62223931,\n",
       " 32.82137636,\n",
       " 30.2291014,\n",
       " 31.41376587,\n",
       " 39.01055035,\n",
       " 34.82207891,\n",
       " 39.87188366,\n",
       " 39.57994562,\n",
       " 31.02658678,\n",
       " 27.66246068,\n",
       " 18.8752884,\n",
       " 46.2313731,\n",
       " 30.01522604,\n",
       " 47.6004104,\n",
       " 16.52726666,\n",
       " 42.4462331,\n",
       " 33.62527449,\n",
       " 42.28462558,\n",
       " 46.20520667,\n",
       " 30.87517392,\n",
       " 32.94800341,\n",
       " 26.17691512,\n",
       " 31.25699649,\n",
       " 35.33644554,\n",
       " 35.64072501,\n",
       " 40.32297174,\n",
       " 38.04348588,\n",
       " 29.4579793,\n",
       " 23.91636367,\n",
       " 34.56403521,\n",
       " 45.42782464,\n",
       " 38.95607754,\n",
       " 39.11396748,\n",
       " 39.67398759,\n",
       " 31.89148105,\n",
       " 22.62379325,\n",
       " 26.18910408,\n",
       " 43.54114213,\n",
       " 33.2607386,\n",
       " 31.67602384,\n",
       " 37.12846259,\n",
       " 38.22048496,\n",
       " 34.38814185,\n",
       " 36.11407371,\n",
       " 44.08064814,\n",
       " 29.59917161,\n",
       " 37.02411751,\n",
       " 41.60576556,\n",
       " 44.37860528,\n",
       " 38.06471077,\n",
       " 22.90526456,\n",
       " 40.27182857,\n",
       " 31.57979239,\n",
       " 25.88037795,\n",
       " 28.8913048,\n",
       " 44.33687925,\n",
       " 36.78948684,\n",
       " 43.46098875,\n",
       " 40.65557,\n",
       " 26.16634004,\n",
       " 25.13884784,\n",
       " 33.01581456,\n",
       " 32.87050073,\n",
       " 26.28557154,\n",
       " 39.44933037,\n",
       " 36.25528612,\n",
       " 40.719133,\n",
       " 40.57181545,\n",
       " 19.87166413,\n",
       " 43.21925286,\n",
       " 31.48102823,\n",
       " 37.14915056,\n",
       " 38.991504,\n",
       " 20.53059384,\n",
       " 27.80447692,\n",
       " 38.69933298,\n",
       " 30.0223142,\n",
       " 38.64884169,\n",
       " 26.40668884,\n",
       " 32.10224978,\n",
       " 28.31532754,\n",
       " 43.26195884,\n",
       " 40.3609407,\n",
       " 37.3025258,\n",
       " 31.45110181,\n",
       " 38.79599524,\n",
       " 36.92553372,\n",
       " 32.37167945,\n",
       " 23.25835631,\n",
       " 26.42613261,\n",
       " 48.74987653,\n",
       " 31.42512354,\n",
       " 46.80679298,\n",
       " 30.59748648,\n",
       " 20.7926322,\n",
       " 26.19785226,\n",
       " 42.7274097,\n",
       " 33.7314695,\n",
       " 37.23859057,\n",
       " 36.33984141]"
      ]
     },
     "execution_count": 2,
     "metadata": {},
     "output_type": "execute_result"
    }
   ],
   "source": [
    "#load Data\n",
    "\n",
    "\n",
    "url = 'https://raw.githubusercontent.com/fedhere/PUI2018_fb55/717cb525061d7f9844156a23e0cbe2a926e2fb23/Lab4_fb55/times.txt'\n",
    "data = urllib.urlopen(url).read()\n",
    "data = data.decode(\"utf-8\") # transform binary format to human-readable formats\n",
    "data = data.split('\\n') # get rid of '\\n' separarator\n",
    "data = list(filter(None, data)) # get rid of empty strings\n",
    "data = [float(i) for i in data] # transform strings into floats\n",
    "data\n",
    "\n",
    "    \n",
    "    \n"
   ]
  },
  {
   "cell_type": "markdown",
   "metadata": {},
   "source": [
    "###  Calculate the statistic"
   ]
  },
  {
   "cell_type": "code",
   "execution_count": 3,
   "metadata": {},
   "outputs": [],
   "source": [
    "# Calculate sample mean of data provided\n",
    "sample_mean = statistics.mean(data)\n",
    "# Calculate sample standard deviation of data provided\n",
    "sample_stdev = statistics.stdev(data)\n",
    "\n",
    "# Population mean and standard deviation are given \n",
    "population_mean = 36\n",
    "population_stdev = 6\n",
    "\n",
    "# Calculate the sample size\n",
    "sample_size = len(data)\n",
    "\n"
   ]
  },
  {
   "cell_type": "code",
   "execution_count": 4,
   "metadata": {},
   "outputs": [
    {
     "name": "stdout",
     "output_type": "stream",
     "text": [
      "The Sample mean is: 34.4661616883\n",
      "The Sample standard deviation is: 7.137280133751879\n",
      "The Population mean is: 36\n",
      "The Population standard deviation is: 6\n"
     ]
    }
   ],
   "source": [
    "print(\"The Sample mean is:\", sample_mean)\n",
    "print(\"The Sample standard deviation is:\", sample_stdev)\n",
    "\n",
    "print(\"The Population mean is:\", population_mean)\n",
    "print(\"The Population standard deviation is:\", population_stdev)"
   ]
  },
  {
   "cell_type": "code",
   "execution_count": 5,
   "metadata": {},
   "outputs": [
    {
     "name": "stdout",
     "output_type": "stream",
     "text": [
      "The z-statistic is: 2.55639718617\n"
     ]
    }
   ],
   "source": [
    "# Now we are ready to calculate the z-statistic\n",
    "z= (population_mean - sample_mean) / (population_stdev/sqrt(sample_size))\n",
    "print(\"The z-statistic is:\", z)"
   ]
  },
  {
   "cell_type": "markdown",
   "metadata": {},
   "source": [
    "### Reject/Fail to reject the hypothesis:"
   ]
  },
  {
   "cell_type": "markdown",
   "metadata": {},
   "source": [
    "I need to compare the calculated z-statistic to 1.65, the critical Z-Score corresponding to $\\alpha$=0.05. \n",
    "\n",
    "\n",
    "2.556 > 1.65\n",
    "\n",
    "We **reject our null hypothesis** given the signifacant value is lower than the critical Z-Score corresponding to $\\alpha$=0.05. "
   ]
  },
  {
   "cell_type": "markdown",
   "metadata": {},
   "source": [
    " "
   ]
  },
  {
   "cell_type": "markdown",
   "metadata": {},
   "source": [
    " "
   ]
  },
  {
   "cell_type": "markdown",
   "metadata": {},
   "source": [
    " \n",
    " "
   ]
  },
  {
   "cell_type": "markdown",
   "metadata": {},
   "source": [
    "#####  END OF NOTEBOOK"
   ]
  }
 ],
 "metadata": {
  "kernelspec": {
   "display_name": "PUI2016_Python3",
   "language": "python",
   "name": "pui2016_python3"
  },
  "language_info": {
   "codemirror_mode": {
    "name": "ipython",
    "version": 3
   },
   "file_extension": ".py",
   "mimetype": "text/x-python",
   "name": "python",
   "nbconvert_exporter": "python",
   "pygments_lexer": "ipython3",
   "version": "3.5.4"
  }
 },
 "nbformat": 4,
 "nbformat_minor": 2
}
