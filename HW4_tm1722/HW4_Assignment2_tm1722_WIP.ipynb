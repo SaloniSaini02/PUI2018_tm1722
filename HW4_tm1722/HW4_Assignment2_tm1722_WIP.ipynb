{
 "cells": [
  {
   "cell_type": "code",
   "execution_count": 1,
   "metadata": {},
   "outputs": [
    {
     "name": "stdout",
     "output_type": "stream",
     "text": [
      "Populating the interactive namespace from numpy and matplotlib\n"
     ]
    }
   ],
   "source": [
    "# Import packages used in the notebook\n",
    "\n",
    "import pylab as pl\n",
    "import pandas as pd\n",
    "import numpy as np\n",
    "import os\n",
    "import json\n",
    "\n",
    "%pylab inline\n",
    "\n",
    "if os.getenv ('PUIDATA') is None:\n",
    "    print (\"Must set env variable PUIDATA\")\n",
    "\n"
   ]
  },
  {
   "cell_type": "markdown",
   "metadata": {},
   "source": [
    "# Idea\n",
    "People who use the bikes for longer trips tend to be young\n",
    "\n",
    "Hypothesis: Users who are born before 1960 take trips with shorter duration compared to younger people\n",
    "\n",
    "Null Hypothesis: On average, the drip duration is the same or longer for a sample of users BORN AFTER 1960 compared to users BORN BEFORE 1960 throughout the timeframe of Jan 2016 - Mar 2016\n",
    "\n",
    "Alternative Hypothesis: On average, the drip duration is shorter for a sample of users BORN AFTER 1960 compared to users BORN BEFORE 1960 throughout the timeframe of Jan 2016 - Mar 2016\n",
    "\n",
    "H0: T(AFTER) - T(BEFORE) <= 0\n",
    "\n",
    "H1: T(AFTER) - T(BEFORE) > 0\n",
    "\n"
   ]
  },
  {
   "cell_type": "markdown",
   "metadata": {},
   "source": []
  },
  {
   "cell_type": "markdown",
   "metadata": {},
   "source": [
    " "
   ]
  },
  {
   "cell_type": "markdown",
   "metadata": {},
   "source": [
    "# Testing"
   ]
  },
  {
   "cell_type": "code",
   "execution_count": 2,
   "metadata": {},
   "outputs": [
    {
     "data": {
      "text/plain": [
       "'/nfshome/tm1722/PUIDATA'"
      ]
     },
     "execution_count": 2,
     "metadata": {},
     "output_type": "execute_result"
    }
   ],
   "source": [
    "# Path to Environmental variable so it is easier to import data\n",
    "\n",
    "puidata = os.getenv(\"PUIDATA\")\n",
    "if not puidata or puidata == '/nfshome/tm1722/PUIdata':\n",
    "    puidata = '/nfshome/tm1722/PUIDATA'\n",
    "\n",
    "os.environ[\"PUIDATA\"] = puidata\n",
    "os.environ[\"PUIDATA\"]"
   ]
  },
  {
   "cell_type": "code",
   "execution_count": null,
   "metadata": {},
   "outputs": [],
   "source": []
  }
 ],
 "metadata": {
  "kernelspec": {
   "display_name": "PUI2016_Python3",
   "language": "python",
   "name": "pui2016_python3"
  },
  "language_info": {
   "codemirror_mode": {
    "name": "ipython",
    "version": 3
   },
   "file_extension": ".py",
   "mimetype": "text/x-python",
   "name": "python",
   "nbconvert_exporter": "python",
   "pygments_lexer": "ipython3",
   "version": "3.5.4"
  }
 },
 "nbformat": 4,
 "nbformat_minor": 2
}
