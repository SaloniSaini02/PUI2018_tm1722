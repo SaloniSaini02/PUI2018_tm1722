{
 "cells": [
  {
   "cell_type": "code",
   "execution_count": 1,
   "metadata": {},
   "outputs": [
    {
     "name": "stdout",
     "output_type": "stream",
     "text": [
      "Populating the interactive namespace from numpy and matplotlib\n"
     ]
    }
   ],
   "source": [
    "# Import packages used in the notebook\n",
    "import pylab as pl\n",
    "import pandas as pd\n",
    "import numpy as np\n",
    "import os\n",
    "import json\n",
    "import scipy.stats\n",
    "%pylab inline\n",
    "\n",
    "if os.getenv ('PUIDATA') is None:\n",
    "    print (\"Must set env variable PUIDATA\")\n",
    "    \n",
    "np.random.seed(1945)"
   ]
  },
  {
   "cell_type": "code",
   "execution_count": 6,
   "metadata": {},
   "outputs": [],
   "source": [
    "import zipfile"
   ]
  },
  {
   "cell_type": "markdown",
   "metadata": {
    "run_control": {
     "frozen": false,
     "read_only": false
    }
   },
   "source": [
    "# Read in data\n",
    "I am reading in data from with terminal commands. Prior to that, I will make sure that I have an environmental variable called PUIDATA set up! I will be using data for the following months and I will join them later: \n",
    "January 2015, February 2015, March 2015\n"
   ]
  },
  {
   "cell_type": "code",
   "execution_count": 2,
   "metadata": {},
   "outputs": [],
   "source": [
    "# Make sure PUIDATA exists and can access the folder\n",
    "\n",
    "puidata = os.getenv(\"PUIDATA\")\n",
    "if not puidata or puidata == 'nfshome/tm1722/PUIdata':\n",
    "    puidata = '/nfshome/tm1722/PUIDATA'\n",
    "    \n",
    "os.environ[\"PUIDATA\"] = puidata"
   ]
  },
  {
   "cell_type": "code",
   "execution_count": 3,
   "metadata": {},
   "outputs": [
    {
     "name": "stdout",
     "output_type": "stream",
     "text": [
      "  % Total    % Received % Xferd  Average Speed   Time    Time     Time  Current\n",
      "                                 Dload  Upload   Total   Spent    Left  Speed\n",
      "100 6845k  100 6845k    0     0  21.2M      0 --:--:-- --:--:-- --:--:-- 21.2M\n",
      "  % Total    % Received % Xferd  Average Speed   Time    Time     Time  Current\n",
      "                                 Dload  Upload   Total   Spent    Left  Speed\n",
      "100 4708k  100 4708k    0     0  16.6M      0 --:--:-- --:--:-- --:--:-- 16.7M\n",
      "  % Total    % Received % Xferd  Average Speed   Time    Time     Time  Current\n",
      "                                 Dload  Upload   Total   Spent    Left  Speed\n",
      "100 8221k  100 8221k    0     0  23.2M      0 --:--:-- --:--:-- --:--:-- 23.2M\n"
     ]
    }
   ],
   "source": [
    "# Get datasets from Citibike's server\n",
    "!curl https://s3.amazonaws.com/tripdata/201501-citibike-tripdata.zip?accessType=DOWNLOAD > 201501-citibike-tripdata.zip\n",
    "!curl https://s3.amazonaws.com/tripdata/201502-citibike-tripdata.zip?accessType=DOWNLOAD > 201502-citibike-tripdata.zip\n",
    "!curl https://s3.amazonaws.com/tripdata/201503-citibike-tripdata.zip?accessType=DOWNLOAD > 201503-citibike-tripdata.zip\n",
    "    \n"
   ]
  },
  {
   "cell_type": "code",
   "execution_count": 4,
   "metadata": {},
   "outputs": [],
   "source": [
    "# move datasets to the PUIDATA folder\n",
    "!mv 201501-citibike-tripdata.zip $PUIDATA\n",
    "!mv 201502-citibike-tripdata.zip $PUIDATA\n",
    "!mv 201503-citibike-tripdata.zip $PUIDATA"
   ]
  },
  {
   "cell_type": "code",
   "execution_count": 5,
   "metadata": {},
   "outputs": [],
   "source": [
    "# Load data into pandas dataframes\n",
    "\n",
    "jan = pd.read_csv(os.getenv(\"PUIDATA\") + '/201501' + '-citibike-tripdata.zip')\n",
    "feb = pd.read_csv(os.getenv(\"PUIDATA\") + '/201502' + '-citibike-tripdata.zip')\n",
    "mar = pd.read_csv(os.getenv(\"PUIDATA\") + '/201503' + '-citibike-tripdata.zip')"
   ]
  },
  {
   "cell_type": "code",
   "execution_count": 6,
   "metadata": {},
   "outputs": [
    {
     "data": {
      "text/html": [
       "<div>\n",
       "<table border=\"1\" class=\"dataframe\">\n",
       "  <thead>\n",
       "    <tr style=\"text-align: right;\">\n",
       "      <th></th>\n",
       "      <th>tripduration</th>\n",
       "      <th>starttime</th>\n",
       "      <th>stoptime</th>\n",
       "      <th>start station id</th>\n",
       "      <th>start station name</th>\n",
       "      <th>start station latitude</th>\n",
       "      <th>start station longitude</th>\n",
       "      <th>end station id</th>\n",
       "      <th>end station name</th>\n",
       "      <th>end station latitude</th>\n",
       "      <th>end station longitude</th>\n",
       "      <th>bikeid</th>\n",
       "      <th>usertype</th>\n",
       "      <th>birth year</th>\n",
       "      <th>gender</th>\n",
       "    </tr>\n",
       "  </thead>\n",
       "  <tbody>\n",
       "    <tr>\n",
       "      <th>0</th>\n",
       "      <td>1346</td>\n",
       "      <td>1/1/2015 0:01</td>\n",
       "      <td>1/1/2015 0:24</td>\n",
       "      <td>455</td>\n",
       "      <td>1 Ave &amp; E 44 St</td>\n",
       "      <td>40.750020</td>\n",
       "      <td>-73.969053</td>\n",
       "      <td>265</td>\n",
       "      <td>Stanton St &amp; Chrystie St</td>\n",
       "      <td>40.722293</td>\n",
       "      <td>-73.991475</td>\n",
       "      <td>18660</td>\n",
       "      <td>Subscriber</td>\n",
       "      <td>1960.0</td>\n",
       "      <td>2</td>\n",
       "    </tr>\n",
       "    <tr>\n",
       "      <th>1</th>\n",
       "      <td>363</td>\n",
       "      <td>1/1/2015 0:02</td>\n",
       "      <td>1/1/2015 0:08</td>\n",
       "      <td>434</td>\n",
       "      <td>9 Ave &amp; W 18 St</td>\n",
       "      <td>40.743174</td>\n",
       "      <td>-74.003664</td>\n",
       "      <td>482</td>\n",
       "      <td>W 15 St &amp; 7 Ave</td>\n",
       "      <td>40.739355</td>\n",
       "      <td>-73.999318</td>\n",
       "      <td>16085</td>\n",
       "      <td>Subscriber</td>\n",
       "      <td>1963.0</td>\n",
       "      <td>1</td>\n",
       "    </tr>\n",
       "    <tr>\n",
       "      <th>2</th>\n",
       "      <td>346</td>\n",
       "      <td>1/1/2015 0:04</td>\n",
       "      <td>1/1/2015 0:10</td>\n",
       "      <td>491</td>\n",
       "      <td>E 24 St &amp; Park Ave S</td>\n",
       "      <td>40.740964</td>\n",
       "      <td>-73.986022</td>\n",
       "      <td>505</td>\n",
       "      <td>6 Ave &amp; W 33 St</td>\n",
       "      <td>40.749013</td>\n",
       "      <td>-73.988484</td>\n",
       "      <td>20845</td>\n",
       "      <td>Subscriber</td>\n",
       "      <td>1974.0</td>\n",
       "      <td>1</td>\n",
       "    </tr>\n",
       "  </tbody>\n",
       "</table>\n",
       "</div>"
      ],
      "text/plain": [
       "   tripduration      starttime       stoptime  start station id  \\\n",
       "0          1346  1/1/2015 0:01  1/1/2015 0:24               455   \n",
       "1           363  1/1/2015 0:02  1/1/2015 0:08               434   \n",
       "2           346  1/1/2015 0:04  1/1/2015 0:10               491   \n",
       "\n",
       "     start station name  start station latitude  start station longitude  \\\n",
       "0       1 Ave & E 44 St               40.750020               -73.969053   \n",
       "1       9 Ave & W 18 St               40.743174               -74.003664   \n",
       "2  E 24 St & Park Ave S               40.740964               -73.986022   \n",
       "\n",
       "   end station id          end station name  end station latitude  \\\n",
       "0             265  Stanton St & Chrystie St             40.722293   \n",
       "1             482           W 15 St & 7 Ave             40.739355   \n",
       "2             505           6 Ave & W 33 St             40.749013   \n",
       "\n",
       "   end station longitude  bikeid    usertype  birth year  gender  \n",
       "0             -73.991475   18660  Subscriber      1960.0       2  \n",
       "1             -73.999318   16085  Subscriber      1963.0       1  \n",
       "2             -73.988484   20845  Subscriber      1974.0       1  "
      ]
     },
     "execution_count": 6,
     "metadata": {},
     "output_type": "execute_result"
    }
   ],
   "source": [
    "# Check one of the dataframes \n",
    "jan.head(3)"
   ]
  },
  {
   "cell_type": "code",
   "execution_count": 7,
   "metadata": {},
   "outputs": [
    {
     "data": {
      "text/html": [
       "<div>\n",
       "<table border=\"1\" class=\"dataframe\">\n",
       "  <thead>\n",
       "    <tr style=\"text-align: right;\">\n",
       "      <th></th>\n",
       "      <th>tripduration</th>\n",
       "      <th>starttime</th>\n",
       "      <th>stoptime</th>\n",
       "      <th>start station id</th>\n",
       "      <th>start station name</th>\n",
       "      <th>start station latitude</th>\n",
       "      <th>start station longitude</th>\n",
       "      <th>end station id</th>\n",
       "      <th>end station name</th>\n",
       "      <th>end station latitude</th>\n",
       "      <th>end station longitude</th>\n",
       "      <th>bikeid</th>\n",
       "      <th>usertype</th>\n",
       "      <th>birth year</th>\n",
       "      <th>gender</th>\n",
       "    </tr>\n",
       "  </thead>\n",
       "  <tbody>\n",
       "    <tr>\n",
       "      <th>0</th>\n",
       "      <td>1346</td>\n",
       "      <td>1/1/2015 0:01</td>\n",
       "      <td>1/1/2015 0:24</td>\n",
       "      <td>455</td>\n",
       "      <td>1 Ave &amp; E 44 St</td>\n",
       "      <td>40.750020</td>\n",
       "      <td>-73.969053</td>\n",
       "      <td>265</td>\n",
       "      <td>Stanton St &amp; Chrystie St</td>\n",
       "      <td>40.722293</td>\n",
       "      <td>-73.991475</td>\n",
       "      <td>18660</td>\n",
       "      <td>Subscriber</td>\n",
       "      <td>1960.0</td>\n",
       "      <td>2</td>\n",
       "    </tr>\n",
       "    <tr>\n",
       "      <th>1</th>\n",
       "      <td>363</td>\n",
       "      <td>1/1/2015 0:02</td>\n",
       "      <td>1/1/2015 0:08</td>\n",
       "      <td>434</td>\n",
       "      <td>9 Ave &amp; W 18 St</td>\n",
       "      <td>40.743174</td>\n",
       "      <td>-74.003664</td>\n",
       "      <td>482</td>\n",
       "      <td>W 15 St &amp; 7 Ave</td>\n",
       "      <td>40.739355</td>\n",
       "      <td>-73.999318</td>\n",
       "      <td>16085</td>\n",
       "      <td>Subscriber</td>\n",
       "      <td>1963.0</td>\n",
       "      <td>1</td>\n",
       "    </tr>\n",
       "    <tr>\n",
       "      <th>2</th>\n",
       "      <td>346</td>\n",
       "      <td>1/1/2015 0:04</td>\n",
       "      <td>1/1/2015 0:10</td>\n",
       "      <td>491</td>\n",
       "      <td>E 24 St &amp; Park Ave S</td>\n",
       "      <td>40.740964</td>\n",
       "      <td>-73.986022</td>\n",
       "      <td>505</td>\n",
       "      <td>6 Ave &amp; W 33 St</td>\n",
       "      <td>40.749013</td>\n",
       "      <td>-73.988484</td>\n",
       "      <td>20845</td>\n",
       "      <td>Subscriber</td>\n",
       "      <td>1974.0</td>\n",
       "      <td>1</td>\n",
       "    </tr>\n",
       "  </tbody>\n",
       "</table>\n",
       "</div>"
      ],
      "text/plain": [
       "   tripduration      starttime       stoptime  start station id  \\\n",
       "0          1346  1/1/2015 0:01  1/1/2015 0:24               455   \n",
       "1           363  1/1/2015 0:02  1/1/2015 0:08               434   \n",
       "2           346  1/1/2015 0:04  1/1/2015 0:10               491   \n",
       "\n",
       "     start station name  start station latitude  start station longitude  \\\n",
       "0       1 Ave & E 44 St               40.750020               -73.969053   \n",
       "1       9 Ave & W 18 St               40.743174               -74.003664   \n",
       "2  E 24 St & Park Ave S               40.740964               -73.986022   \n",
       "\n",
       "   end station id          end station name  end station latitude  \\\n",
       "0             265  Stanton St & Chrystie St             40.722293   \n",
       "1             482           W 15 St & 7 Ave             40.739355   \n",
       "2             505           6 Ave & W 33 St             40.749013   \n",
       "\n",
       "   end station longitude  bikeid    usertype  birth year  gender  \n",
       "0             -73.991475   18660  Subscriber      1960.0       2  \n",
       "1             -73.999318   16085  Subscriber      1963.0       1  \n",
       "2             -73.988484   20845  Subscriber      1974.0       1  "
      ]
     },
     "execution_count": 7,
     "metadata": {},
     "output_type": "execute_result"
    }
   ],
   "source": [
    "# Concatenate dataframes\n",
    "three_months = pd.concat([jan, feb, mar], axis=0)\n",
    "\n",
    "# See the top 3 vales for the new dataframe\n",
    "three_months.head(3)"
   ]
  },
  {
   "cell_type": "code",
   "execution_count": 8,
   "metadata": {},
   "outputs": [
    {
     "data": {
      "text/html": [
       "<div>\n",
       "<table border=\"1\" class=\"dataframe\">\n",
       "  <thead>\n",
       "    <tr style=\"text-align: right;\">\n",
       "      <th></th>\n",
       "      <th>tripduration</th>\n",
       "      <th>starttime</th>\n",
       "      <th>stoptime</th>\n",
       "      <th>start station id</th>\n",
       "      <th>start station name</th>\n",
       "      <th>start station latitude</th>\n",
       "      <th>start station longitude</th>\n",
       "      <th>end station id</th>\n",
       "      <th>end station name</th>\n",
       "      <th>end station latitude</th>\n",
       "      <th>end station longitude</th>\n",
       "      <th>bikeid</th>\n",
       "      <th>usertype</th>\n",
       "      <th>birth year</th>\n",
       "      <th>gender</th>\n",
       "    </tr>\n",
       "  </thead>\n",
       "  <tbody>\n",
       "    <tr>\n",
       "      <th>341823</th>\n",
       "      <td>171</td>\n",
       "      <td>3/31/2015 23:59</td>\n",
       "      <td>4/1/2015 0:02</td>\n",
       "      <td>450</td>\n",
       "      <td>W 49 St &amp; 8 Ave</td>\n",
       "      <td>40.762272</td>\n",
       "      <td>-73.987882</td>\n",
       "      <td>479</td>\n",
       "      <td>9 Ave &amp; W 45 St</td>\n",
       "      <td>40.760193</td>\n",
       "      <td>-73.991255</td>\n",
       "      <td>18943</td>\n",
       "      <td>Subscriber</td>\n",
       "      <td>1986.0</td>\n",
       "      <td>1</td>\n",
       "    </tr>\n",
       "    <tr>\n",
       "      <th>341824</th>\n",
       "      <td>616</td>\n",
       "      <td>3/31/2015 23:59</td>\n",
       "      <td>4/1/2015 0:09</td>\n",
       "      <td>455</td>\n",
       "      <td>1 Ave &amp; E 44 St</td>\n",
       "      <td>40.750020</td>\n",
       "      <td>-73.969053</td>\n",
       "      <td>477</td>\n",
       "      <td>W 41 St &amp; 8 Ave</td>\n",
       "      <td>40.756405</td>\n",
       "      <td>-73.990026</td>\n",
       "      <td>21364</td>\n",
       "      <td>Subscriber</td>\n",
       "      <td>1970.0</td>\n",
       "      <td>1</td>\n",
       "    </tr>\n",
       "    <tr>\n",
       "      <th>341825</th>\n",
       "      <td>227</td>\n",
       "      <td>3/31/2015 23:55</td>\n",
       "      <td>3/31/2015 23:59</td>\n",
       "      <td>477</td>\n",
       "      <td>W 41 St &amp; 8 Ave</td>\n",
       "      <td>40.756405</td>\n",
       "      <td>-73.990026</td>\n",
       "      <td>478</td>\n",
       "      <td>11 Ave &amp; W 41 St</td>\n",
       "      <td>40.760301</td>\n",
       "      <td>-73.998842</td>\n",
       "      <td>16020</td>\n",
       "      <td>Subscriber</td>\n",
       "      <td>1998.0</td>\n",
       "      <td>1</td>\n",
       "    </tr>\n",
       "  </tbody>\n",
       "</table>\n",
       "</div>"
      ],
      "text/plain": [
       "        tripduration        starttime         stoptime  start station id  \\\n",
       "341823           171  3/31/2015 23:59    4/1/2015 0:02               450   \n",
       "341824           616  3/31/2015 23:59    4/1/2015 0:09               455   \n",
       "341825           227  3/31/2015 23:55  3/31/2015 23:59               477   \n",
       "\n",
       "       start station name  start station latitude  start station longitude  \\\n",
       "341823    W 49 St & 8 Ave               40.762272               -73.987882   \n",
       "341824    1 Ave & E 44 St               40.750020               -73.969053   \n",
       "341825    W 41 St & 8 Ave               40.756405               -73.990026   \n",
       "\n",
       "        end station id  end station name  end station latitude  \\\n",
       "341823             479   9 Ave & W 45 St             40.760193   \n",
       "341824             477   W 41 St & 8 Ave             40.756405   \n",
       "341825             478  11 Ave & W 41 St             40.760301   \n",
       "\n",
       "        end station longitude  bikeid    usertype  birth year  gender  \n",
       "341823             -73.991255   18943  Subscriber      1986.0       1  \n",
       "341824             -73.990026   21364  Subscriber      1970.0       1  \n",
       "341825             -73.998842   16020  Subscriber      1998.0       1  "
      ]
     },
     "execution_count": 8,
     "metadata": {},
     "output_type": "execute_result"
    }
   ],
   "source": [
    "# See bottom 3 values for the new dataframe\n",
    "three_months.tail(3)"
   ]
  },
  {
   "cell_type": "code",
   "execution_count": 9,
   "metadata": {
    "run_control": {
     "frozen": false,
     "read_only": false
    }
   },
   "outputs": [
    {
     "data": {
      "text/plain": [
       "Index(['tripduration', 'starttime', 'stoptime', 'start station id',\n",
       "       'start station name', 'start station latitude',\n",
       "       'start station longitude', 'end station id', 'end station name',\n",
       "       'end station latitude', 'end station longitude', 'bikeid', 'usertype',\n",
       "       'birth year', 'gender'],\n",
       "      dtype='object')"
      ]
     },
     "execution_count": 9,
     "metadata": {},
     "output_type": "execute_result"
    }
   ],
   "source": [
    "three_months.columns"
   ]
  },
  {
   "cell_type": "markdown",
   "metadata": {
    "run_control": {
     "frozen": false,
     "read_only": false
    }
   },
   "source": [
    "# Idea and Hypotheses\n",
    "\n",
    "* Idea: the trip duration is different for bikers that ride during the day and riders that ride at night. \n",
    "\n",
    "\n",
    "\n",
    "\n",
    "* Null Hypothesis: There is no statistical difference in the average trip duration of \"day riders\" and \"night riders\" at $\\alpha$ = 0.05 \n",
    "\n",
    "* Alt. Hypothesis: On average, trip durations of day riders are different than trip durations of night riders.\n",
    "\n",
    "\n",
    "\n",
    "\n",
    "\n",
    "* $H_0$: $T_{night}$ - $T_{day}$  = 0\n",
    "\n",
    "* $H_1$: $T_{night}$ - $T_{day}$ $\\neq$ 0\n",
    "\n",
    "\n",
    "##### Define day vs night riders: \n",
    "Day riders -- people who start a ride any time from 4:00 until 17:00.\n",
    "\n",
    "Night riders -- people who start a ride any time from 18:00 until 5:00. \n",
    "\n",
    "##### Data manipulation and extraction: \n",
    "* New categorical variable called \"ride_type\" with following values: day, night \n",
    "* New ordinal variables called \"tripdurationD\" and \"tripdurationN\" to store trip durations for Day and Night riders, respectively"
   ]
  },
  {
   "cell_type": "code",
   "execution_count": 10,
   "metadata": {},
   "outputs": [
    {
     "name": "stderr",
     "output_type": "stream",
     "text": [
      "/usr/local/Anaconda3-5.0.0-Linux-x86_64/envs/PUI2016_Python3/lib/python3.5/site-packages/ipykernel/__main__.py:3: SettingWithCopyWarning: \n",
      "A value is trying to be set on a copy of a slice from a DataFrame\n",
      "\n",
      "See the caveats in the documentation: http://pandas.pydata.org/pandas-docs/stable/indexing.html#indexing-view-versus-copy\n",
      "  app.launch_new_instance()\n"
     ]
    },
    {
     "data": {
      "text/html": [
       "<div>\n",
       "<table border=\"1\" class=\"dataframe\">\n",
       "  <thead>\n",
       "    <tr style=\"text-align: right;\">\n",
       "      <th></th>\n",
       "      <th>tripduration</th>\n",
       "      <th>starttime</th>\n",
       "    </tr>\n",
       "  </thead>\n",
       "  <tbody>\n",
       "    <tr>\n",
       "      <th>0</th>\n",
       "      <td>1346</td>\n",
       "      <td>1/1/2015 0:01</td>\n",
       "    </tr>\n",
       "    <tr>\n",
       "      <th>1</th>\n",
       "      <td>363</td>\n",
       "      <td>1/1/2015 0:02</td>\n",
       "    </tr>\n",
       "    <tr>\n",
       "      <th>2</th>\n",
       "      <td>346</td>\n",
       "      <td>1/1/2015 0:04</td>\n",
       "    </tr>\n",
       "    <tr>\n",
       "      <th>3</th>\n",
       "      <td>182</td>\n",
       "      <td>1/1/2015 0:04</td>\n",
       "    </tr>\n",
       "    <tr>\n",
       "      <th>4</th>\n",
       "      <td>969</td>\n",
       "      <td>1/1/2015 0:05</td>\n",
       "    </tr>\n",
       "  </tbody>\n",
       "</table>\n",
       "</div>"
      ],
      "text/plain": [
       "   tripduration      starttime\n",
       "0          1346  1/1/2015 0:01\n",
       "1           363  1/1/2015 0:02\n",
       "2           346  1/1/2015 0:04\n",
       "3           182  1/1/2015 0:04\n",
       "4           969  1/1/2015 0:05"
      ]
     },
     "execution_count": 10,
     "metadata": {},
     "output_type": "execute_result"
    }
   ],
   "source": [
    "# Keep only the variables we need\n",
    "day_n_nite = three_months[['tripduration', 'starttime']]\n",
    "day_n_nite.dropna(inplace=True)\n",
    "day_n_nite.head()"
   ]
  },
  {
   "cell_type": "code",
   "execution_count": 11,
   "metadata": {},
   "outputs": [],
   "source": [
    "# Let's extract just hour the ride started from 'starttime' for \n",
    "# to make analysis easier\n",
    "# This line of code will give an error because 'starttime is not\n",
    "# in the a proper datetimelike value.\n",
    "# day_n_nite['hour_of_ride'] = day_n_nite['starttime'].dt.hour"
   ]
  },
  {
   "cell_type": "code",
   "execution_count": 12,
   "metadata": {},
   "outputs": [
    {
     "name": "stderr",
     "output_type": "stream",
     "text": [
      "/usr/local/Anaconda3-5.0.0-Linux-x86_64/envs/PUI2016_Python3/lib/python3.5/site-packages/ipykernel/__main__.py:3: SettingWithCopyWarning: \n",
      "A value is trying to be set on a copy of a slice from a DataFrame.\n",
      "Try using .loc[row_indexer,col_indexer] = value instead\n",
      "\n",
      "See the caveats in the documentation: http://pandas.pydata.org/pandas-docs/stable/indexing.html#indexing-view-versus-copy\n",
      "  app.launch_new_instance()\n"
     ]
    },
    {
     "data": {
      "text/html": [
       "<div>\n",
       "<table border=\"1\" class=\"dataframe\">\n",
       "  <thead>\n",
       "    <tr style=\"text-align: right;\">\n",
       "      <th></th>\n",
       "      <th>tripduration</th>\n",
       "      <th>starttime</th>\n",
       "      <th>time</th>\n",
       "    </tr>\n",
       "  </thead>\n",
       "  <tbody>\n",
       "    <tr>\n",
       "      <th>0</th>\n",
       "      <td>1346</td>\n",
       "      <td>1/1/2015 0:01</td>\n",
       "      <td>2015-01-01 00:01:00</td>\n",
       "    </tr>\n",
       "    <tr>\n",
       "      <th>1</th>\n",
       "      <td>363</td>\n",
       "      <td>1/1/2015 0:02</td>\n",
       "      <td>2015-01-01 00:02:00</td>\n",
       "    </tr>\n",
       "    <tr>\n",
       "      <th>2</th>\n",
       "      <td>346</td>\n",
       "      <td>1/1/2015 0:04</td>\n",
       "      <td>2015-01-01 00:04:00</td>\n",
       "    </tr>\n",
       "    <tr>\n",
       "      <th>3</th>\n",
       "      <td>182</td>\n",
       "      <td>1/1/2015 0:04</td>\n",
       "      <td>2015-01-01 00:04:00</td>\n",
       "    </tr>\n",
       "    <tr>\n",
       "      <th>4</th>\n",
       "      <td>969</td>\n",
       "      <td>1/1/2015 0:05</td>\n",
       "      <td>2015-01-01 00:05:00</td>\n",
       "    </tr>\n",
       "  </tbody>\n",
       "</table>\n",
       "</div>"
      ],
      "text/plain": [
       "   tripduration      starttime                time\n",
       "0          1346  1/1/2015 0:01 2015-01-01 00:01:00\n",
       "1           363  1/1/2015 0:02 2015-01-01 00:02:00\n",
       "2           346  1/1/2015 0:04 2015-01-01 00:04:00\n",
       "3           182  1/1/2015 0:04 2015-01-01 00:04:00\n",
       "4           969  1/1/2015 0:05 2015-01-01 00:05:00"
      ]
     },
     "execution_count": 12,
     "metadata": {},
     "output_type": "execute_result"
    }
   ],
   "source": [
    "# Let's convert 'starttime' to a proper pandas datetime value\n",
    "\n",
    "day_n_nite['time'] = pd.to_datetime(day_n_nite['starttime'])\n",
    "day_n_nite.head()"
   ]
  },
  {
   "cell_type": "code",
   "execution_count": 13,
   "metadata": {},
   "outputs": [
    {
     "name": "stderr",
     "output_type": "stream",
     "text": [
      "/usr/local/Anaconda3-5.0.0-Linux-x86_64/envs/PUI2016_Python3/lib/python3.5/site-packages/ipykernel/__main__.py:2: SettingWithCopyWarning: \n",
      "A value is trying to be set on a copy of a slice from a DataFrame.\n",
      "Try using .loc[row_indexer,col_indexer] = value instead\n",
      "\n",
      "See the caveats in the documentation: http://pandas.pydata.org/pandas-docs/stable/indexing.html#indexing-view-versus-copy\n",
      "  from ipykernel import kernelapp as app\n"
     ]
    },
    {
     "data": {
      "text/html": [
       "<div>\n",
       "<table border=\"1\" class=\"dataframe\">\n",
       "  <thead>\n",
       "    <tr style=\"text-align: right;\">\n",
       "      <th></th>\n",
       "      <th>tripduration</th>\n",
       "      <th>starttime</th>\n",
       "      <th>time</th>\n",
       "      <th>hour_of_ride</th>\n",
       "    </tr>\n",
       "  </thead>\n",
       "  <tbody>\n",
       "    <tr>\n",
       "      <th>0</th>\n",
       "      <td>1346</td>\n",
       "      <td>1/1/2015 0:01</td>\n",
       "      <td>2015-01-01 00:01:00</td>\n",
       "      <td>0</td>\n",
       "    </tr>\n",
       "    <tr>\n",
       "      <th>1</th>\n",
       "      <td>363</td>\n",
       "      <td>1/1/2015 0:02</td>\n",
       "      <td>2015-01-01 00:02:00</td>\n",
       "      <td>0</td>\n",
       "    </tr>\n",
       "    <tr>\n",
       "      <th>2</th>\n",
       "      <td>346</td>\n",
       "      <td>1/1/2015 0:04</td>\n",
       "      <td>2015-01-01 00:04:00</td>\n",
       "      <td>0</td>\n",
       "    </tr>\n",
       "    <tr>\n",
       "      <th>3</th>\n",
       "      <td>182</td>\n",
       "      <td>1/1/2015 0:04</td>\n",
       "      <td>2015-01-01 00:04:00</td>\n",
       "      <td>0</td>\n",
       "    </tr>\n",
       "    <tr>\n",
       "      <th>4</th>\n",
       "      <td>969</td>\n",
       "      <td>1/1/2015 0:05</td>\n",
       "      <td>2015-01-01 00:05:00</td>\n",
       "      <td>0</td>\n",
       "    </tr>\n",
       "  </tbody>\n",
       "</table>\n",
       "</div>"
      ],
      "text/plain": [
       "   tripduration      starttime                time  hour_of_ride\n",
       "0          1346  1/1/2015 0:01 2015-01-01 00:01:00             0\n",
       "1           363  1/1/2015 0:02 2015-01-01 00:02:00             0\n",
       "2           346  1/1/2015 0:04 2015-01-01 00:04:00             0\n",
       "3           182  1/1/2015 0:04 2015-01-01 00:04:00             0\n",
       "4           969  1/1/2015 0:05 2015-01-01 00:05:00             0"
      ]
     },
     "execution_count": 13,
     "metadata": {},
     "output_type": "execute_result"
    }
   ],
   "source": [
    "# Now, we can extract the hour of ride from 'time'\n",
    "day_n_nite['hour_of_ride'] = day_n_nite['time'].dt.hour\n",
    "\n",
    "# let's see if that worked properly\n",
    "day_n_nite.head()"
   ]
  },
  {
   "cell_type": "code",
   "execution_count": 14,
   "metadata": {},
   "outputs": [
    {
     "data": {
      "text/html": [
       "<div>\n",
       "<table border=\"1\" class=\"dataframe\">\n",
       "  <thead>\n",
       "    <tr style=\"text-align: right;\">\n",
       "      <th></th>\n",
       "      <th>tripduration</th>\n",
       "      <th>starttime</th>\n",
       "      <th>time</th>\n",
       "      <th>hour_of_ride</th>\n",
       "    </tr>\n",
       "  </thead>\n",
       "  <tbody>\n",
       "    <tr>\n",
       "      <th>341821</th>\n",
       "      <td>536</td>\n",
       "      <td>3/31/2015 23:58</td>\n",
       "      <td>2015-03-31 23:58:00</td>\n",
       "      <td>23</td>\n",
       "    </tr>\n",
       "    <tr>\n",
       "      <th>341822</th>\n",
       "      <td>1030</td>\n",
       "      <td>3/31/2015 23:59</td>\n",
       "      <td>2015-03-31 23:59:00</td>\n",
       "      <td>23</td>\n",
       "    </tr>\n",
       "    <tr>\n",
       "      <th>341823</th>\n",
       "      <td>171</td>\n",
       "      <td>3/31/2015 23:59</td>\n",
       "      <td>2015-03-31 23:59:00</td>\n",
       "      <td>23</td>\n",
       "    </tr>\n",
       "    <tr>\n",
       "      <th>341824</th>\n",
       "      <td>616</td>\n",
       "      <td>3/31/2015 23:59</td>\n",
       "      <td>2015-03-31 23:59:00</td>\n",
       "      <td>23</td>\n",
       "    </tr>\n",
       "    <tr>\n",
       "      <th>341825</th>\n",
       "      <td>227</td>\n",
       "      <td>3/31/2015 23:55</td>\n",
       "      <td>2015-03-31 23:55:00</td>\n",
       "      <td>23</td>\n",
       "    </tr>\n",
       "  </tbody>\n",
       "</table>\n",
       "</div>"
      ],
      "text/plain": [
       "        tripduration        starttime                time  hour_of_ride\n",
       "341821           536  3/31/2015 23:58 2015-03-31 23:58:00            23\n",
       "341822          1030  3/31/2015 23:59 2015-03-31 23:59:00            23\n",
       "341823           171  3/31/2015 23:59 2015-03-31 23:59:00            23\n",
       "341824           616  3/31/2015 23:59 2015-03-31 23:59:00            23\n",
       "341825           227  3/31/2015 23:55 2015-03-31 23:55:00            23"
      ]
     },
     "execution_count": 14,
     "metadata": {},
     "output_type": "execute_result"
    }
   ],
   "source": [
    "# let's see the last 5 rows as well\n",
    "day_n_nite.tail()"
   ]
  },
  {
   "cell_type": "code",
   "execution_count": 15,
   "metadata": {
    "ExecuteTime": {
     "end_time": "2017-10-05T16:55:03.392271",
     "start_time": "2017-10-05T16:55:02.902521"
    },
    "run_control": {
     "frozen": false,
     "read_only": false
    }
   },
   "outputs": [
    {
     "data": {
      "text/html": [
       "<div>\n",
       "<table border=\"1\" class=\"dataframe\">\n",
       "  <thead>\n",
       "    <tr style=\"text-align: right;\">\n",
       "      <th></th>\n",
       "      <th>tripduration</th>\n",
       "      <th>hour_of_ride</th>\n",
       "    </tr>\n",
       "  </thead>\n",
       "  <tbody>\n",
       "    <tr>\n",
       "      <th>count</th>\n",
       "      <td>8.243080e+05</td>\n",
       "      <td>824308.000000</td>\n",
       "    </tr>\n",
       "    <tr>\n",
       "      <th>mean</th>\n",
       "      <td>6.863157e+02</td>\n",
       "      <td>13.710182</td>\n",
       "    </tr>\n",
       "    <tr>\n",
       "      <th>std</th>\n",
       "      <td>2.078693e+03</td>\n",
       "      <td>4.860854</td>\n",
       "    </tr>\n",
       "    <tr>\n",
       "      <th>min</th>\n",
       "      <td>6.000000e+01</td>\n",
       "      <td>0.000000</td>\n",
       "    </tr>\n",
       "    <tr>\n",
       "      <th>25%</th>\n",
       "      <td>3.430000e+02</td>\n",
       "      <td>9.000000</td>\n",
       "    </tr>\n",
       "    <tr>\n",
       "      <th>50%</th>\n",
       "      <td>5.180000e+02</td>\n",
       "      <td>14.000000</td>\n",
       "    </tr>\n",
       "    <tr>\n",
       "      <th>75%</th>\n",
       "      <td>7.980000e+02</td>\n",
       "      <td>18.000000</td>\n",
       "    </tr>\n",
       "    <tr>\n",
       "      <th>max</th>\n",
       "      <td>1.007614e+06</td>\n",
       "      <td>23.000000</td>\n",
       "    </tr>\n",
       "  </tbody>\n",
       "</table>\n",
       "</div>"
      ],
      "text/plain": [
       "       tripduration   hour_of_ride\n",
       "count  8.243080e+05  824308.000000\n",
       "mean   6.863157e+02      13.710182\n",
       "std    2.078693e+03       4.860854\n",
       "min    6.000000e+01       0.000000\n",
       "25%    3.430000e+02       9.000000\n",
       "50%    5.180000e+02      14.000000\n",
       "75%    7.980000e+02      18.000000\n",
       "max    1.007614e+06      23.000000"
      ]
     },
     "execution_count": 15,
     "metadata": {},
     "output_type": "execute_result"
    }
   ],
   "source": [
    "# Let's look at the summary statistics for our variables\n",
    "day_n_nite.describe()"
   ]
  },
  {
   "cell_type": "code",
   "execution_count": 16,
   "metadata": {
    "ExecuteTime": {
     "end_time": "2017-10-05T16:55:05.649685",
     "start_time": "2017-10-05T16:55:05.635796"
    },
    "run_control": {
     "frozen": false,
     "read_only": false
    }
   },
   "outputs": [
    {
     "name": "stdout",
     "output_type": "stream",
     "text": [
      "<class 'pandas.core.frame.DataFrame'>\n",
      "Int64Index: 824308 entries, 0 to 341825\n",
      "Data columns (total 4 columns):\n",
      "tripduration    824308 non-null int64\n",
      "starttime       824308 non-null object\n",
      "time            824308 non-null datetime64[ns]\n",
      "hour_of_ride    824308 non-null int64\n",
      "dtypes: datetime64[ns](1), int64(2), object(1)\n",
      "memory usage: 31.4+ MB\n"
     ]
    }
   ],
   "source": [
    "day_n_nite.info()"
   ]
  },
  {
   "cell_type": "code",
   "execution_count": 17,
   "metadata": {
    "scrolled": false
   },
   "outputs": [
    {
     "data": {
      "text/plain": [
       "Text(0,0.5,'Frequency, rides per hour')"
      ]
     },
     "execution_count": 17,
     "metadata": {},
     "output_type": "execute_result"
    },
    {
     "data": {
      "image/png": "[encoded data removed]",
      "text/plain": [
       "<matplotlib.figure.Figure at 0x7fd2a464fcf8>"
      ]
     },
     "metadata": {},
     "output_type": "display_data"
    }
   ],
   "source": [
    "# Let's do a histogram to see the number of trips every hour\n",
    "\n",
    "plt.figure(figsize=(10,10))\n",
    "plt.hist(day_n_nite['hour_of_ride'], bins=24, )\n",
    "plt.xlabel('Hour of Day')\n",
    "plt.ylabel('Frequency, rides per hour')"
   ]
  },
  {
   "cell_type": "markdown",
   "metadata": {},
   "source": [
    "### Figure 1: Histogram for rides # per hour of the day\n",
    "\n",
    "I chose 24 bins -- one for each hour. I could do smaller bins, but  I think a bin per hour is intuitive.\n",
    "\n",
    "We can see two local maximas around the times people commute to and from work. "
   ]
  },
  {
   "cell_type": "markdown",
   "metadata": {},
   "source": [
    " \n",
    " "
   ]
  },
  {
   "cell_type": "code",
   "execution_count": 18,
   "metadata": {
    "ExecuteTime": {
     "end_time": "2017-10-05T16:55:21.602238",
     "start_time": "2017-10-05T16:55:20.487384"
    },
    "run_control": {
     "frozen": false,
     "read_only": false
    }
   },
   "outputs": [],
   "source": [
    "# Let's reproduce the histogram in Figure 1 using pandas:\n",
    "\n",
    "# The following code will give AttributeError: 'DataFrame' object has no attribute 'cut'\n",
    "# I think this is because my kernel uses old pandas version (before cut function was available)\n",
    "\n",
    "#bins = np.arange(24, 99, 5)\n",
    "#hist_pd = day_n_nite.hour_of_ride.groupby(day_n_nite.cut(day_n_nite.hour_of_ride, bins)).agg([count_nonzero]).plot(kind='bar', legend=False)\n",
    "#hist_pd.set_title(\"Figure: Histogram for rides per hour of the day\")\n"
   ]
  },
  {
   "cell_type": "code",
   "execution_count": 19,
   "metadata": {},
   "outputs": [],
   "source": [
    "# Let's plot a bar chart for average trip length for every hour\n",
    "# To do that, we need to create to sum trip durations for an hour\n",
    "# and divide by total number of trips for that hour\n"
   ]
  },
  {
   "cell_type": "code",
   "execution_count": 20,
   "metadata": {},
   "outputs": [
    {
     "data": {
      "text/plain": [
       "0      6730\n",
       "1      3738\n",
       "2      2276\n",
       "3      1520\n",
       "4      1697\n",
       "5      5830\n",
       "6     21013\n",
       "7     40423\n",
       "8     72884\n",
       "9     58708\n",
       "10    37044\n",
       "11    36403\n",
       "12    41941\n",
       "13    43982\n",
       "14    45557\n",
       "15    47768\n",
       "16    57790\n",
       "17    84314\n",
       "18    79725\n",
       "19    51493\n",
       "20    32376\n",
       "21    22623\n",
       "22    16984\n",
       "23    11489\n",
       "Name: hour_of_ride, dtype: int64"
      ]
     },
     "execution_count": 20,
     "metadata": {},
     "output_type": "execute_result"
    }
   ],
   "source": [
    "# Create sums of number of durations for each hour\n",
    "sum_trips_hourly = day_n_nite['hour_of_ride'].value_counts()\n",
    "sum_trips_hourly.sort_index(inplace=True)\n",
    "sum_trips_hourly"
   ]
  },
  {
   "cell_type": "code",
   "execution_count": 21,
   "metadata": {},
   "outputs": [
    {
     "data": {
      "text/plain": [
       "hour_of_ride\n",
       "0      5982353\n",
       "1      2628158\n",
       "2      1538377\n",
       "3       959316\n",
       "4      1105579\n",
       "5      3403006\n",
       "6     12014509\n",
       "7     26043301\n",
       "8     49763725\n",
       "9     39472637\n",
       "10    24648433\n",
       "11    25493389\n",
       "12    29741489\n",
       "13    30414899\n",
       "14    32966572\n",
       "15    34311422\n",
       "16    40979538\n",
       "17    60086731\n",
       "18    55185732\n",
       "19    33887793\n",
       "20    20882338\n",
       "21    15281774\n",
       "22    11249076\n",
       "23     7695398\n",
       "Name: tripduration, dtype: int64"
      ]
     },
     "execution_count": 21,
     "metadata": {},
     "output_type": "execute_result"
    }
   ],
   "source": [
    "# Create sums of trip durations for each hour\n",
    "\n",
    "# this is going to do computations we need and store them in a \n",
    "# 'DataFrameGroupBy' object, which we need to convert to a pandaas\n",
    "sum_tripduration_hourly = day_n_nite.groupby('hour_of_ride').sum()\n",
    "\n",
    "#function t\n",
    "def i(value):\n",
    "    return(value)\n",
    "    \n",
    "sum_tripduration_hourly.apply(i)\n",
    "sum_tripduration_hourly = sum_tripduration_hourly['tripduration']\n",
    "sum_tripduration_hourly"
   ]
  },
  {
   "cell_type": "code",
   "execution_count": 22,
   "metadata": {
    "scrolled": true
   },
   "outputs": [
    {
     "data": {
      "text/plain": [
       "hour_of_ride\n",
       "0     888.908321\n",
       "1     703.092028\n",
       "2     675.912566\n",
       "3     631.128947\n",
       "4     651.490277\n",
       "5     583.706003\n",
       "6     571.765526\n",
       "7     644.269376\n",
       "8     682.779828\n",
       "9     672.355335\n",
       "10    665.382599\n",
       "11    700.310112\n",
       "12    709.126845\n",
       "13    691.530603\n",
       "14    723.633514\n",
       "15    718.293041\n",
       "16    709.111230\n",
       "17    712.654257\n",
       "18    692.201091\n",
       "19    658.104849\n",
       "20    644.994379\n",
       "21    675.497237\n",
       "22    662.333726\n",
       "23    669.805727\n",
       "dtype: float64"
      ]
     },
     "execution_count": 22,
     "metadata": {},
     "output_type": "execute_result"
    }
   ],
   "source": [
    "average_trip_duration_hourly = sum_tripduration_hourly / sum_trips_hourly\n",
    "average_trip_duration_hourly"
   ]
  },
  {
   "cell_type": "code",
   "execution_count": 23,
   "metadata": {},
   "outputs": [
    {
     "data": {
      "text/plain": [
       "Text(0,0.5,'Duration (in Seconds)')"
      ]
     },
     "execution_count": 23,
     "metadata": {},
     "output_type": "execute_result"
    },
    {
     "data": {
      "image/png": "[encoded data removed]",
      "text/plain": [
       "<matplotlib.figure.Figure at 0x7fd27a13d668>"
      ]
     },
     "metadata": {},
     "output_type": "display_data"
    }
   ],
   "source": [
    "plt.figure(figsize=(14,10))\n",
    "plt.bar(average_trip_duration_hourly.index, average_trip_duration_hourly)\n",
    "plt.title(\"Average Trip Duration, hourly\", fontsize=18)\n",
    "plt.xlabel(\"Hour\", fontsize=15)\n",
    "plt.ylabel(\"Duration (in Seconds)\", fontsize=15)"
   ]
  },
  {
   "cell_type": "markdown",
   "metadata": {},
   "source": [
    "#### Figure 2: Average Trip Duration \n",
    "\n",
    "We can see that trip duration throughtout the day is pretty consistent except for (1) 12 am, when the trips are a bit longer and (2) 5 and 6 am, when the trips are a bit shorter. From this, it may seem that the average duration of night riders is longer than for day riders (in other words, they are not equal). However, let's not jump to conclusions before doing tests since the difference might not be statistically significant (in which case the average durations are basically equal)"
   ]
  },
  {
   "cell_type": "markdown",
   "metadata": {
    "run_control": {
     "frozen": false,
     "read_only": false
    }
   },
   "source": [
    " \n",
    " \n",
    " \n",
    " "
   ]
  },
  {
   "cell_type": "code",
   "execution_count": 24,
   "metadata": {},
   "outputs": [],
   "source": [
    "# Before performing the tests, let's split data into night and day riders. Before we do that, let's adjust the hours "
   ]
  },
  {
   "cell_type": "code",
   "execution_count": 25,
   "metadata": {},
   "outputs": [],
   "source": [
    "night_riders = day_n_nite.loc[(day_n_nite['hour_of_ride'] <= 5) | (day_n_nite['hour_of_ride'] >= 18)]"
   ]
  },
  {
   "cell_type": "code",
   "execution_count": 26,
   "metadata": {},
   "outputs": [],
   "source": [
    "day_riders = day_n_nite.loc[(day_n_nite['hour_of_ride'] >= 4) | (day_n_nite['hour_of_ride'] <= 17)]"
   ]
  },
  {
   "cell_type": "markdown",
   "metadata": {
    "collapsed": true,
    "run_control": {
     "frozen": false,
     "read_only": false
    }
   },
   "source": [
    "# KS tests to compare 2 samples\n",
    "\n",
    "http://docs.scipy.org/doc/scipy-0.15.1/reference/generated/scipy.stats.ks_2samp.html\n",
    "\n",
    "the KS test in scipy returns the p-value BUT make sure you understand what the NULL is! read the documentation carefully! what is the null hypothesis that you can/cannot reject?"
   ]
  },
  {
   "cell_type": "markdown",
   "metadata": {},
   "source": [
    "##### $H_0$:  Samples of trip durations for day and night riders are drawn from the same continuous distribution at $\\alpha$ = 0.05"
   ]
  },
  {
   "cell_type": "code",
   "execution_count": 27,
   "metadata": {},
   "outputs": [],
   "source": [
    "# Take samples from night rides and day rides dataframes\n",
    "night_riders_sample = night_riders.sample(n=200, random_state=781994)\n",
    "day_riders_sample = day_riders.sample(n=200, random_state=781994)"
   ]
  },
  {
   "cell_type": "code",
   "execution_count": 28,
   "metadata": {
    "ExecuteTime": {
     "end_time": "2017-10-05T16:58:13.968035",
     "start_time": "2017-10-05T16:58:13.899033"
    },
    "run_control": {
     "frozen": false,
     "read_only": false
    }
   },
   "outputs": [
    {
     "name": "stdout",
     "output_type": "stream",
     "text": [
      "Ks_2sampResult(statistic=0.099999999999999978, pvalue=0.25622118507010427)\n"
     ]
    }
   ],
   "source": [
    "# Perform the Two-Sample KS test \n",
    "ks = scipy.stats.ks_2samp(night_riders_sample.tripduration, day_riders_sample.tripduration)\n",
    "print(ks)"
   ]
  },
  {
   "cell_type": "markdown",
   "metadata": {
    "run_control": {
     "frozen": false,
     "read_only": false
    }
   },
   "source": [
    "We cannot reject the null hypothesis at a 5% since the p-value at 0.25 is higher than 5%. Thus, the samples are drawn from the same distribution."
   ]
  },
  {
   "cell_type": "markdown",
   "metadata": {
    "run_control": {
     "frozen": false,
     "read_only": false
    }
   },
   "source": [
    "# Now retest using a test for correlation. \n",
    "\n",
    "That will answer a slightly different question though - formulate the NULL appropriately. The tests for correlations (generally) requires the variable to be paired, so that I can tell if x changes does y change similarly. But the datasets are of different size! You will need to reduce them to the same size. You can do that by subsampling of the data: take only 1 ride every of 200, which you can achieve \"slicing and broadcasting\" the array or using one of the python function (built in python numpy.random.choice() functions for example: Docstring:\n",
    "choice(a, size=None, replace=True, p=None)\n",
    "\n",
    "Generates a random sample from a given 1-D array\n",
    "\n",
    "        .. versionadded:: 1.7.0\n",
    "\n",
    "Parameters\n",
    "...\n",
    "\n",
    "But make sure you understand how to use it! there is an option \"replace\" which you should think about."
   ]
  },
  {
   "cell_type": "markdown",
   "metadata": {
    "run_control": {
     "frozen": false,
     "read_only": false
    }
   },
   "source": [
    "# Pearson's  test for correlation\n",
    "\n",
    "** notice that the Pearson's is a pairwise test: the samples need to be **\n",
    " a. the same size\n",
    " b. sorted! (how??)\n",
    "    \n",
    "http://docs.scipy.org/doc/scipy/reference/generated/scipy.stats.pearsonr.html#scipy.stats.pearsonr\n",
    "\n"
   ]
  },
  {
   "cell_type": "code",
   "execution_count": 29,
   "metadata": {},
   "outputs": [
    {
     "name": "stdout",
     "output_type": "stream",
     "text": [
      "# of rows, night riders: 236481\n",
      "# of rows, day riders: 824308\n"
     ]
    }
   ],
   "source": [
    "# We need to normalize and sort samples \n",
    "\n",
    "#Check how many rows in the night riders dataframe\n",
    "print(\"# of rows, night riders:\", len(night_riders))\n",
    "print(\"# of rows, day riders:\", len(day_riders))\n",
    "\n"
   ]
  },
  {
   "cell_type": "code",
   "execution_count": 30,
   "metadata": {},
   "outputs": [],
   "source": [
    "# Take samples from night rides and day rides dataframes\n",
    "# and sort them\n",
    "n_samp_2 = np.random.choice(night_riders.tripduration, size=40000)\n",
    "n_samp_2_sort = sorted(n_samp_2)\n",
    "\n",
    "d_samp_2 = np.random.choice(day_riders.tripduration, size=40000)\n",
    "d_samp_2_sort = sorted(d_samp_2)\n"
   ]
  },
  {
   "cell_type": "code",
   "execution_count": 31,
   "metadata": {},
   "outputs": [],
   "source": [
    "# Normalize samples\n",
    "\n",
    "d_mean = np.mean(d_samp_2_sort)\n",
    "d_std = np.std(d_samp_2_sort)\n",
    "n_mean = np.mean(n_samp_2_sort)\n",
    "n_std = np.std(n_samp_2_sort)\n",
    "\n",
    "d_samp_2_norm = (d_samp_2_sort - d_mean)/d_std\n",
    "n_samp_2_norm = (n_samp_2_sort - n_mean)/n_std"
   ]
  },
  {
   "cell_type": "markdown",
   "metadata": {},
   "source": [
    "Null Hypothesis: trip durations for day rides and night rides are not correllated "
   ]
  },
  {
   "cell_type": "code",
   "execution_count": 32,
   "metadata": {
    "ExecuteTime": {
     "end_time": "2017-10-05T17:05:04.485128",
     "start_time": "2017-10-05T17:05:04.480928"
    },
    "run_control": {
     "frozen": false,
     "read_only": false
    }
   },
   "outputs": [
    {
     "data": {
      "text/plain": [
       "(0.80127161427832372, 0.0)"
      ]
     },
     "execution_count": 32,
     "metadata": {},
     "output_type": "execute_result"
    }
   ],
   "source": [
    "scipy.stats.pearsonr(d_samp_2_norm, n_samp_2_norm)"
   ]
  },
  {
   "cell_type": "markdown",
   "metadata": {},
   "source": [
    "The Pearson correlation coefficient measures the linear relationship between two datasets. The closer that number is to 1, the stronger is the positive correlation (as x increases, so does y)\n",
    "\n",
    "According to Scipy manual, The p-value roughly indicates the probability of an uncorrelated system producing datasets that have a Pearson correlation at least as extreme as the one computed from these datasets. \n",
    "\n",
    "As p-value is 0.0<alpha=0.05, we reject our null hypothesis that trip durations for day rides and night rides are not correllated"
   ]
  },
  {
   "cell_type": "markdown",
   "metadata": {
    "run_control": {
     "frozen": false,
     "read_only": false
    }
   },
   "source": [
    "# Spearman's  test for correlation\n",
    "\n",
    "http://docs.scipy.org/doc/scipy/reference/generated/scipy.stats.spearmanr.html#scipy.stats.spearmanr"
   ]
  },
  {
   "cell_type": "markdown",
   "metadata": {},
   "source": [
    "Null Hypothesis: trip durations for day rides and night rides are not correllated "
   ]
  },
  {
   "cell_type": "markdown",
   "metadata": {},
   "source": [
    "Unlike Pearson's correlation, The Spearman correlation is nonparametric (doesn't assume datasets follow normal distribution) Unlike the Pearson correlation, the Spearman correlation does not \n",
    "\n",
    "\n",
    "The p-value roughly indicates the probability of an uncorrelated system producing datasets that have a Spearman correlation at least as extreme as the one computed from these datasets. The p-values are not entirely reliable but are probably reasonable for datasets larger than 500 or so."
   ]
  },
  {
   "cell_type": "code",
   "execution_count": 33,
   "metadata": {
    "ExecuteTime": {
     "end_time": "2017-10-05T17:05:09.530148",
     "start_time": "2017-10-05T17:05:09.525214"
    },
    "run_control": {
     "frozen": false,
     "read_only": false
    }
   },
   "outputs": [
    {
     "data": {
      "text/plain": [
       "SpearmanrResult(correlation=0.99999874173227021, pvalue=0.0)"
      ]
     },
     "execution_count": 33,
     "metadata": {},
     "output_type": "execute_result"
    }
   ],
   "source": [
    "scipy.stats.spearmanr(d_samp_2_norm, n_samp_2_norm)"
   ]
  },
  {
   "cell_type": "markdown",
   "metadata": {
    "run_control": {
     "frozen": false,
     "read_only": false
    }
   },
   "source": [
    "Just like in the Pearson's test, the positive correlation implies that as x increases, so does y. Here, we have an almost perfect linear relationship. \n",
    "\n",
    "The p-value is 0.0, which is smaller than the alpha of 0.05, so we reject our null hypothesis that trip durations for day rides and night rides are not correllated"
   ]
  },
  {
   "cell_type": "markdown",
   "metadata": {
    "run_control": {
     "frozen": false,
     "read_only": false
    }
   },
   "source": [
    " "
   ]
  },
  {
   "cell_type": "markdown",
   "metadata": {},
   "source": [
    " \n",
    "     "
   ]
  },
  {
   "cell_type": "markdown",
   "metadata": {},
   "source": [
    " \n",
    "     "
   ]
  },
  {
   "cell_type": "markdown",
   "metadata": {},
   "source": [
    " \n",
    "     "
   ]
  },
  {
   "cell_type": "markdown",
   "metadata": {},
   "source": [
    " \n",
    "     "
   ]
  },
  {
   "cell_type": "markdown",
   "metadata": {},
   "source": [
    " \n",
    "     "
   ]
  },
  {
   "cell_type": "markdown",
   "metadata": {},
   "source": [
    " \n",
    "     "
   ]
  },
  {
   "cell_type": "markdown",
   "metadata": {},
   "source": [
    " \n",
    "     "
   ]
  },
  {
   "cell_type": "markdown",
   "metadata": {},
   "source": [
    "###### END OF NOTEBOOK"
   ]
  }
 ],
 "metadata": {
  "anaconda-cloud": {},
  "kernelspec": {
   "display_name": "PUI2016_Python3",
   "language": "python",
   "name": "pui2016_python3"
  },
  "language_info": {
   "codemirror_mode": {
    "name": "ipython",
    "version": 3
   },
   "file_extension": ".py",
   "mimetype": "text/x-python",
   "name": "python",
   "nbconvert_exporter": "python",
   "pygments_lexer": "ipython3",
   "version": "3.5.4"
  },
  "latex_envs": {
   "LaTeX_envs_menu_present": true,
   "bibliofile": "biblio.bib",
   "cite_by": "apalike",
   "current_citInitial": 1,
   "eqLabelWithNumbers": true,
   "eqNumInitial": 1,
   "hotkeys": {
    "equation": "Ctrl-E",
    "itemize": "Ctrl-I"
   },
   "labels_anchors": false,
   "latex_user_defs": false,
   "report_style_numbering": false,
   "user_envs_cfg": false
  },
  "toc": {
   "colors": {
    "hover_highlight": "#DAA520",
    "running_highlight": "#FF0000",
    "selected_highlight": "#FFD700"
   },
   "moveMenuLeft": true,
   "nav_menu": {
    "height": "135px",
    "width": "251px"
   },
   "navigate_menu": true,
   "number_sections": true,
   "sideBar": true,
   "threshold": 4,
   "toc_cell": false,
   "toc_section_display": "block",
   "toc_window_display": false
  }
 },
 "nbformat": 4,
 "nbformat_minor": 1
}
